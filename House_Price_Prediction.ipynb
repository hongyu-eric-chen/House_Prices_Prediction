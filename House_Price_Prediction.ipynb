{
 "cells": [
  {
   "cell_type": "markdown",
   "metadata": {},
   "source": [
    "# Data Processing"
   ]
  },
  {
   "cell_type": "code",
   "execution_count": 1,
   "metadata": {},
   "outputs": [],
   "source": [
    "# This kernel predicts the housing price in Kaggle competition \n",
    "# https://www.kaggle.com/c/house-prices-advanced-regression-techniques/overview/evaluation\n",
    "import pandas as pd\n",
    "import numpy as np\n",
    "import matplotlib.pyplot as plt\n",
    "import seaborn as sns\n",
    "import mglearn\n",
    "from scipy.stats import norm\n",
    "from sklearn.preprocessing import StandardScaler\n",
    "from scipy import stats\n",
    "from sklearn.model_selection import train_test_split\n",
    "from sklearn.preprocessing import LabelEncoder\n",
    "\n",
    "import warnings\n",
    "warnings.filterwarnings('ignore')\n",
    "%matplotlib inline"
   ]
  },
  {
   "cell_type": "code",
   "execution_count": 2,
   "metadata": {},
   "outputs": [
    {
     "data": {
      "text/html": [
       "<div>\n",
       "<style scoped>\n",
       "    .dataframe tbody tr th:only-of-type {\n",
       "        vertical-align: middle;\n",
       "    }\n",
       "\n",
       "    .dataframe tbody tr th {\n",
       "        vertical-align: top;\n",
       "    }\n",
       "\n",
       "    .dataframe thead th {\n",
       "        text-align: right;\n",
       "    }\n",
       "</style>\n",
       "<table border=\"1\" class=\"dataframe\">\n",
       "  <thead>\n",
       "    <tr style=\"text-align: right;\">\n",
       "      <th></th>\n",
       "      <th>Id</th>\n",
       "      <th>MSSubClass</th>\n",
       "      <th>MSZoning</th>\n",
       "      <th>LotFrontage</th>\n",
       "      <th>LotArea</th>\n",
       "      <th>Street</th>\n",
       "      <th>Alley</th>\n",
       "      <th>LotShape</th>\n",
       "      <th>LandContour</th>\n",
       "      <th>Utilities</th>\n",
       "      <th>...</th>\n",
       "      <th>PoolArea</th>\n",
       "      <th>PoolQC</th>\n",
       "      <th>Fence</th>\n",
       "      <th>MiscFeature</th>\n",
       "      <th>MiscVal</th>\n",
       "      <th>MoSold</th>\n",
       "      <th>YrSold</th>\n",
       "      <th>SaleType</th>\n",
       "      <th>SaleCondition</th>\n",
       "      <th>SalePrice</th>\n",
       "    </tr>\n",
       "  </thead>\n",
       "  <tbody>\n",
       "    <tr>\n",
       "      <th>0</th>\n",
       "      <td>1</td>\n",
       "      <td>60</td>\n",
       "      <td>RL</td>\n",
       "      <td>65.0</td>\n",
       "      <td>8450</td>\n",
       "      <td>Pave</td>\n",
       "      <td>NaN</td>\n",
       "      <td>Reg</td>\n",
       "      <td>Lvl</td>\n",
       "      <td>AllPub</td>\n",
       "      <td>...</td>\n",
       "      <td>0</td>\n",
       "      <td>NaN</td>\n",
       "      <td>NaN</td>\n",
       "      <td>NaN</td>\n",
       "      <td>0</td>\n",
       "      <td>2</td>\n",
       "      <td>2008</td>\n",
       "      <td>WD</td>\n",
       "      <td>Normal</td>\n",
       "      <td>208500</td>\n",
       "    </tr>\n",
       "    <tr>\n",
       "      <th>1</th>\n",
       "      <td>2</td>\n",
       "      <td>20</td>\n",
       "      <td>RL</td>\n",
       "      <td>80.0</td>\n",
       "      <td>9600</td>\n",
       "      <td>Pave</td>\n",
       "      <td>NaN</td>\n",
       "      <td>Reg</td>\n",
       "      <td>Lvl</td>\n",
       "      <td>AllPub</td>\n",
       "      <td>...</td>\n",
       "      <td>0</td>\n",
       "      <td>NaN</td>\n",
       "      <td>NaN</td>\n",
       "      <td>NaN</td>\n",
       "      <td>0</td>\n",
       "      <td>5</td>\n",
       "      <td>2007</td>\n",
       "      <td>WD</td>\n",
       "      <td>Normal</td>\n",
       "      <td>181500</td>\n",
       "    </tr>\n",
       "    <tr>\n",
       "      <th>2</th>\n",
       "      <td>3</td>\n",
       "      <td>60</td>\n",
       "      <td>RL</td>\n",
       "      <td>68.0</td>\n",
       "      <td>11250</td>\n",
       "      <td>Pave</td>\n",
       "      <td>NaN</td>\n",
       "      <td>IR1</td>\n",
       "      <td>Lvl</td>\n",
       "      <td>AllPub</td>\n",
       "      <td>...</td>\n",
       "      <td>0</td>\n",
       "      <td>NaN</td>\n",
       "      <td>NaN</td>\n",
       "      <td>NaN</td>\n",
       "      <td>0</td>\n",
       "      <td>9</td>\n",
       "      <td>2008</td>\n",
       "      <td>WD</td>\n",
       "      <td>Normal</td>\n",
       "      <td>223500</td>\n",
       "    </tr>\n",
       "    <tr>\n",
       "      <th>3</th>\n",
       "      <td>4</td>\n",
       "      <td>70</td>\n",
       "      <td>RL</td>\n",
       "      <td>60.0</td>\n",
       "      <td>9550</td>\n",
       "      <td>Pave</td>\n",
       "      <td>NaN</td>\n",
       "      <td>IR1</td>\n",
       "      <td>Lvl</td>\n",
       "      <td>AllPub</td>\n",
       "      <td>...</td>\n",
       "      <td>0</td>\n",
       "      <td>NaN</td>\n",
       "      <td>NaN</td>\n",
       "      <td>NaN</td>\n",
       "      <td>0</td>\n",
       "      <td>2</td>\n",
       "      <td>2006</td>\n",
       "      <td>WD</td>\n",
       "      <td>Abnorml</td>\n",
       "      <td>140000</td>\n",
       "    </tr>\n",
       "    <tr>\n",
       "      <th>4</th>\n",
       "      <td>5</td>\n",
       "      <td>60</td>\n",
       "      <td>RL</td>\n",
       "      <td>84.0</td>\n",
       "      <td>14260</td>\n",
       "      <td>Pave</td>\n",
       "      <td>NaN</td>\n",
       "      <td>IR1</td>\n",
       "      <td>Lvl</td>\n",
       "      <td>AllPub</td>\n",
       "      <td>...</td>\n",
       "      <td>0</td>\n",
       "      <td>NaN</td>\n",
       "      <td>NaN</td>\n",
       "      <td>NaN</td>\n",
       "      <td>0</td>\n",
       "      <td>12</td>\n",
       "      <td>2008</td>\n",
       "      <td>WD</td>\n",
       "      <td>Normal</td>\n",
       "      <td>250000</td>\n",
       "    </tr>\n",
       "    <tr>\n",
       "      <th>...</th>\n",
       "      <td>...</td>\n",
       "      <td>...</td>\n",
       "      <td>...</td>\n",
       "      <td>...</td>\n",
       "      <td>...</td>\n",
       "      <td>...</td>\n",
       "      <td>...</td>\n",
       "      <td>...</td>\n",
       "      <td>...</td>\n",
       "      <td>...</td>\n",
       "      <td>...</td>\n",
       "      <td>...</td>\n",
       "      <td>...</td>\n",
       "      <td>...</td>\n",
       "      <td>...</td>\n",
       "      <td>...</td>\n",
       "      <td>...</td>\n",
       "      <td>...</td>\n",
       "      <td>...</td>\n",
       "      <td>...</td>\n",
       "      <td>...</td>\n",
       "    </tr>\n",
       "    <tr>\n",
       "      <th>1455</th>\n",
       "      <td>1456</td>\n",
       "      <td>60</td>\n",
       "      <td>RL</td>\n",
       "      <td>62.0</td>\n",
       "      <td>7917</td>\n",
       "      <td>Pave</td>\n",
       "      <td>NaN</td>\n",
       "      <td>Reg</td>\n",
       "      <td>Lvl</td>\n",
       "      <td>AllPub</td>\n",
       "      <td>...</td>\n",
       "      <td>0</td>\n",
       "      <td>NaN</td>\n",
       "      <td>NaN</td>\n",
       "      <td>NaN</td>\n",
       "      <td>0</td>\n",
       "      <td>8</td>\n",
       "      <td>2007</td>\n",
       "      <td>WD</td>\n",
       "      <td>Normal</td>\n",
       "      <td>175000</td>\n",
       "    </tr>\n",
       "    <tr>\n",
       "      <th>1456</th>\n",
       "      <td>1457</td>\n",
       "      <td>20</td>\n",
       "      <td>RL</td>\n",
       "      <td>85.0</td>\n",
       "      <td>13175</td>\n",
       "      <td>Pave</td>\n",
       "      <td>NaN</td>\n",
       "      <td>Reg</td>\n",
       "      <td>Lvl</td>\n",
       "      <td>AllPub</td>\n",
       "      <td>...</td>\n",
       "      <td>0</td>\n",
       "      <td>NaN</td>\n",
       "      <td>MnPrv</td>\n",
       "      <td>NaN</td>\n",
       "      <td>0</td>\n",
       "      <td>2</td>\n",
       "      <td>2010</td>\n",
       "      <td>WD</td>\n",
       "      <td>Normal</td>\n",
       "      <td>210000</td>\n",
       "    </tr>\n",
       "    <tr>\n",
       "      <th>1457</th>\n",
       "      <td>1458</td>\n",
       "      <td>70</td>\n",
       "      <td>RL</td>\n",
       "      <td>66.0</td>\n",
       "      <td>9042</td>\n",
       "      <td>Pave</td>\n",
       "      <td>NaN</td>\n",
       "      <td>Reg</td>\n",
       "      <td>Lvl</td>\n",
       "      <td>AllPub</td>\n",
       "      <td>...</td>\n",
       "      <td>0</td>\n",
       "      <td>NaN</td>\n",
       "      <td>GdPrv</td>\n",
       "      <td>Shed</td>\n",
       "      <td>2500</td>\n",
       "      <td>5</td>\n",
       "      <td>2010</td>\n",
       "      <td>WD</td>\n",
       "      <td>Normal</td>\n",
       "      <td>266500</td>\n",
       "    </tr>\n",
       "    <tr>\n",
       "      <th>1458</th>\n",
       "      <td>1459</td>\n",
       "      <td>20</td>\n",
       "      <td>RL</td>\n",
       "      <td>68.0</td>\n",
       "      <td>9717</td>\n",
       "      <td>Pave</td>\n",
       "      <td>NaN</td>\n",
       "      <td>Reg</td>\n",
       "      <td>Lvl</td>\n",
       "      <td>AllPub</td>\n",
       "      <td>...</td>\n",
       "      <td>0</td>\n",
       "      <td>NaN</td>\n",
       "      <td>NaN</td>\n",
       "      <td>NaN</td>\n",
       "      <td>0</td>\n",
       "      <td>4</td>\n",
       "      <td>2010</td>\n",
       "      <td>WD</td>\n",
       "      <td>Normal</td>\n",
       "      <td>142125</td>\n",
       "    </tr>\n",
       "    <tr>\n",
       "      <th>1459</th>\n",
       "      <td>1460</td>\n",
       "      <td>20</td>\n",
       "      <td>RL</td>\n",
       "      <td>75.0</td>\n",
       "      <td>9937</td>\n",
       "      <td>Pave</td>\n",
       "      <td>NaN</td>\n",
       "      <td>Reg</td>\n",
       "      <td>Lvl</td>\n",
       "      <td>AllPub</td>\n",
       "      <td>...</td>\n",
       "      <td>0</td>\n",
       "      <td>NaN</td>\n",
       "      <td>NaN</td>\n",
       "      <td>NaN</td>\n",
       "      <td>0</td>\n",
       "      <td>6</td>\n",
       "      <td>2008</td>\n",
       "      <td>WD</td>\n",
       "      <td>Normal</td>\n",
       "      <td>147500</td>\n",
       "    </tr>\n",
       "  </tbody>\n",
       "</table>\n",
       "<p>1460 rows × 81 columns</p>\n",
       "</div>"
      ],
      "text/plain": [
       "        Id  MSSubClass MSZoning  LotFrontage  LotArea Street Alley LotShape  \\\n",
       "0        1          60       RL         65.0     8450   Pave   NaN      Reg   \n",
       "1        2          20       RL         80.0     9600   Pave   NaN      Reg   \n",
       "2        3          60       RL         68.0    11250   Pave   NaN      IR1   \n",
       "3        4          70       RL         60.0     9550   Pave   NaN      IR1   \n",
       "4        5          60       RL         84.0    14260   Pave   NaN      IR1   \n",
       "...    ...         ...      ...          ...      ...    ...   ...      ...   \n",
       "1455  1456          60       RL         62.0     7917   Pave   NaN      Reg   \n",
       "1456  1457          20       RL         85.0    13175   Pave   NaN      Reg   \n",
       "1457  1458          70       RL         66.0     9042   Pave   NaN      Reg   \n",
       "1458  1459          20       RL         68.0     9717   Pave   NaN      Reg   \n",
       "1459  1460          20       RL         75.0     9937   Pave   NaN      Reg   \n",
       "\n",
       "     LandContour Utilities  ... PoolArea PoolQC  Fence MiscFeature MiscVal  \\\n",
       "0            Lvl    AllPub  ...        0    NaN    NaN         NaN       0   \n",
       "1            Lvl    AllPub  ...        0    NaN    NaN         NaN       0   \n",
       "2            Lvl    AllPub  ...        0    NaN    NaN         NaN       0   \n",
       "3            Lvl    AllPub  ...        0    NaN    NaN         NaN       0   \n",
       "4            Lvl    AllPub  ...        0    NaN    NaN         NaN       0   \n",
       "...          ...       ...  ...      ...    ...    ...         ...     ...   \n",
       "1455         Lvl    AllPub  ...        0    NaN    NaN         NaN       0   \n",
       "1456         Lvl    AllPub  ...        0    NaN  MnPrv         NaN       0   \n",
       "1457         Lvl    AllPub  ...        0    NaN  GdPrv        Shed    2500   \n",
       "1458         Lvl    AllPub  ...        0    NaN    NaN         NaN       0   \n",
       "1459         Lvl    AllPub  ...        0    NaN    NaN         NaN       0   \n",
       "\n",
       "     MoSold YrSold  SaleType  SaleCondition  SalePrice  \n",
       "0         2   2008        WD         Normal     208500  \n",
       "1         5   2007        WD         Normal     181500  \n",
       "2         9   2008        WD         Normal     223500  \n",
       "3         2   2006        WD        Abnorml     140000  \n",
       "4        12   2008        WD         Normal     250000  \n",
       "...     ...    ...       ...            ...        ...  \n",
       "1455      8   2007        WD         Normal     175000  \n",
       "1456      2   2010        WD         Normal     210000  \n",
       "1457      5   2010        WD         Normal     266500  \n",
       "1458      4   2010        WD         Normal     142125  \n",
       "1459      6   2008        WD         Normal     147500  \n",
       "\n",
       "[1460 rows x 81 columns]"
      ]
     },
     "execution_count": 2,
     "metadata": {},
     "output_type": "execute_result"
    }
   ],
   "source": [
    "# Read in the training data\n",
    "df_train = pd.read_csv('./input/train.csv')\n",
    "df_train"
   ]
  },
  {
   "cell_type": "code",
   "execution_count": 3,
   "metadata": {},
   "outputs": [
    {
     "data": {
      "text/html": [
       "<div>\n",
       "<style scoped>\n",
       "    .dataframe tbody tr th:only-of-type {\n",
       "        vertical-align: middle;\n",
       "    }\n",
       "\n",
       "    .dataframe tbody tr th {\n",
       "        vertical-align: top;\n",
       "    }\n",
       "\n",
       "    .dataframe thead th {\n",
       "        text-align: right;\n",
       "    }\n",
       "</style>\n",
       "<table border=\"1\" class=\"dataframe\">\n",
       "  <thead>\n",
       "    <tr style=\"text-align: right;\">\n",
       "      <th></th>\n",
       "      <th>Id</th>\n",
       "      <th>MSSubClass</th>\n",
       "      <th>MSZoning</th>\n",
       "      <th>LotFrontage</th>\n",
       "      <th>LotArea</th>\n",
       "      <th>Street</th>\n",
       "      <th>Alley</th>\n",
       "      <th>LotShape</th>\n",
       "      <th>LandContour</th>\n",
       "      <th>Utilities</th>\n",
       "      <th>...</th>\n",
       "      <th>ScreenPorch</th>\n",
       "      <th>PoolArea</th>\n",
       "      <th>PoolQC</th>\n",
       "      <th>Fence</th>\n",
       "      <th>MiscFeature</th>\n",
       "      <th>MiscVal</th>\n",
       "      <th>MoSold</th>\n",
       "      <th>YrSold</th>\n",
       "      <th>SaleType</th>\n",
       "      <th>SaleCondition</th>\n",
       "    </tr>\n",
       "  </thead>\n",
       "  <tbody>\n",
       "    <tr>\n",
       "      <th>0</th>\n",
       "      <td>1461</td>\n",
       "      <td>20</td>\n",
       "      <td>RH</td>\n",
       "      <td>80.0</td>\n",
       "      <td>11622</td>\n",
       "      <td>Pave</td>\n",
       "      <td>NaN</td>\n",
       "      <td>Reg</td>\n",
       "      <td>Lvl</td>\n",
       "      <td>AllPub</td>\n",
       "      <td>...</td>\n",
       "      <td>120</td>\n",
       "      <td>0</td>\n",
       "      <td>NaN</td>\n",
       "      <td>MnPrv</td>\n",
       "      <td>NaN</td>\n",
       "      <td>0</td>\n",
       "      <td>6</td>\n",
       "      <td>2010</td>\n",
       "      <td>WD</td>\n",
       "      <td>Normal</td>\n",
       "    </tr>\n",
       "    <tr>\n",
       "      <th>1</th>\n",
       "      <td>1462</td>\n",
       "      <td>20</td>\n",
       "      <td>RL</td>\n",
       "      <td>81.0</td>\n",
       "      <td>14267</td>\n",
       "      <td>Pave</td>\n",
       "      <td>NaN</td>\n",
       "      <td>IR1</td>\n",
       "      <td>Lvl</td>\n",
       "      <td>AllPub</td>\n",
       "      <td>...</td>\n",
       "      <td>0</td>\n",
       "      <td>0</td>\n",
       "      <td>NaN</td>\n",
       "      <td>NaN</td>\n",
       "      <td>Gar2</td>\n",
       "      <td>12500</td>\n",
       "      <td>6</td>\n",
       "      <td>2010</td>\n",
       "      <td>WD</td>\n",
       "      <td>Normal</td>\n",
       "    </tr>\n",
       "    <tr>\n",
       "      <th>2</th>\n",
       "      <td>1463</td>\n",
       "      <td>60</td>\n",
       "      <td>RL</td>\n",
       "      <td>74.0</td>\n",
       "      <td>13830</td>\n",
       "      <td>Pave</td>\n",
       "      <td>NaN</td>\n",
       "      <td>IR1</td>\n",
       "      <td>Lvl</td>\n",
       "      <td>AllPub</td>\n",
       "      <td>...</td>\n",
       "      <td>0</td>\n",
       "      <td>0</td>\n",
       "      <td>NaN</td>\n",
       "      <td>MnPrv</td>\n",
       "      <td>NaN</td>\n",
       "      <td>0</td>\n",
       "      <td>3</td>\n",
       "      <td>2010</td>\n",
       "      <td>WD</td>\n",
       "      <td>Normal</td>\n",
       "    </tr>\n",
       "    <tr>\n",
       "      <th>3</th>\n",
       "      <td>1464</td>\n",
       "      <td>60</td>\n",
       "      <td>RL</td>\n",
       "      <td>78.0</td>\n",
       "      <td>9978</td>\n",
       "      <td>Pave</td>\n",
       "      <td>NaN</td>\n",
       "      <td>IR1</td>\n",
       "      <td>Lvl</td>\n",
       "      <td>AllPub</td>\n",
       "      <td>...</td>\n",
       "      <td>0</td>\n",
       "      <td>0</td>\n",
       "      <td>NaN</td>\n",
       "      <td>NaN</td>\n",
       "      <td>NaN</td>\n",
       "      <td>0</td>\n",
       "      <td>6</td>\n",
       "      <td>2010</td>\n",
       "      <td>WD</td>\n",
       "      <td>Normal</td>\n",
       "    </tr>\n",
       "    <tr>\n",
       "      <th>4</th>\n",
       "      <td>1465</td>\n",
       "      <td>120</td>\n",
       "      <td>RL</td>\n",
       "      <td>43.0</td>\n",
       "      <td>5005</td>\n",
       "      <td>Pave</td>\n",
       "      <td>NaN</td>\n",
       "      <td>IR1</td>\n",
       "      <td>HLS</td>\n",
       "      <td>AllPub</td>\n",
       "      <td>...</td>\n",
       "      <td>144</td>\n",
       "      <td>0</td>\n",
       "      <td>NaN</td>\n",
       "      <td>NaN</td>\n",
       "      <td>NaN</td>\n",
       "      <td>0</td>\n",
       "      <td>1</td>\n",
       "      <td>2010</td>\n",
       "      <td>WD</td>\n",
       "      <td>Normal</td>\n",
       "    </tr>\n",
       "    <tr>\n",
       "      <th>...</th>\n",
       "      <td>...</td>\n",
       "      <td>...</td>\n",
       "      <td>...</td>\n",
       "      <td>...</td>\n",
       "      <td>...</td>\n",
       "      <td>...</td>\n",
       "      <td>...</td>\n",
       "      <td>...</td>\n",
       "      <td>...</td>\n",
       "      <td>...</td>\n",
       "      <td>...</td>\n",
       "      <td>...</td>\n",
       "      <td>...</td>\n",
       "      <td>...</td>\n",
       "      <td>...</td>\n",
       "      <td>...</td>\n",
       "      <td>...</td>\n",
       "      <td>...</td>\n",
       "      <td>...</td>\n",
       "      <td>...</td>\n",
       "      <td>...</td>\n",
       "    </tr>\n",
       "    <tr>\n",
       "      <th>1454</th>\n",
       "      <td>2915</td>\n",
       "      <td>160</td>\n",
       "      <td>RM</td>\n",
       "      <td>21.0</td>\n",
       "      <td>1936</td>\n",
       "      <td>Pave</td>\n",
       "      <td>NaN</td>\n",
       "      <td>Reg</td>\n",
       "      <td>Lvl</td>\n",
       "      <td>AllPub</td>\n",
       "      <td>...</td>\n",
       "      <td>0</td>\n",
       "      <td>0</td>\n",
       "      <td>NaN</td>\n",
       "      <td>NaN</td>\n",
       "      <td>NaN</td>\n",
       "      <td>0</td>\n",
       "      <td>6</td>\n",
       "      <td>2006</td>\n",
       "      <td>WD</td>\n",
       "      <td>Normal</td>\n",
       "    </tr>\n",
       "    <tr>\n",
       "      <th>1455</th>\n",
       "      <td>2916</td>\n",
       "      <td>160</td>\n",
       "      <td>RM</td>\n",
       "      <td>21.0</td>\n",
       "      <td>1894</td>\n",
       "      <td>Pave</td>\n",
       "      <td>NaN</td>\n",
       "      <td>Reg</td>\n",
       "      <td>Lvl</td>\n",
       "      <td>AllPub</td>\n",
       "      <td>...</td>\n",
       "      <td>0</td>\n",
       "      <td>0</td>\n",
       "      <td>NaN</td>\n",
       "      <td>NaN</td>\n",
       "      <td>NaN</td>\n",
       "      <td>0</td>\n",
       "      <td>4</td>\n",
       "      <td>2006</td>\n",
       "      <td>WD</td>\n",
       "      <td>Abnorml</td>\n",
       "    </tr>\n",
       "    <tr>\n",
       "      <th>1456</th>\n",
       "      <td>2917</td>\n",
       "      <td>20</td>\n",
       "      <td>RL</td>\n",
       "      <td>160.0</td>\n",
       "      <td>20000</td>\n",
       "      <td>Pave</td>\n",
       "      <td>NaN</td>\n",
       "      <td>Reg</td>\n",
       "      <td>Lvl</td>\n",
       "      <td>AllPub</td>\n",
       "      <td>...</td>\n",
       "      <td>0</td>\n",
       "      <td>0</td>\n",
       "      <td>NaN</td>\n",
       "      <td>NaN</td>\n",
       "      <td>NaN</td>\n",
       "      <td>0</td>\n",
       "      <td>9</td>\n",
       "      <td>2006</td>\n",
       "      <td>WD</td>\n",
       "      <td>Abnorml</td>\n",
       "    </tr>\n",
       "    <tr>\n",
       "      <th>1457</th>\n",
       "      <td>2918</td>\n",
       "      <td>85</td>\n",
       "      <td>RL</td>\n",
       "      <td>62.0</td>\n",
       "      <td>10441</td>\n",
       "      <td>Pave</td>\n",
       "      <td>NaN</td>\n",
       "      <td>Reg</td>\n",
       "      <td>Lvl</td>\n",
       "      <td>AllPub</td>\n",
       "      <td>...</td>\n",
       "      <td>0</td>\n",
       "      <td>0</td>\n",
       "      <td>NaN</td>\n",
       "      <td>MnPrv</td>\n",
       "      <td>Shed</td>\n",
       "      <td>700</td>\n",
       "      <td>7</td>\n",
       "      <td>2006</td>\n",
       "      <td>WD</td>\n",
       "      <td>Normal</td>\n",
       "    </tr>\n",
       "    <tr>\n",
       "      <th>1458</th>\n",
       "      <td>2919</td>\n",
       "      <td>60</td>\n",
       "      <td>RL</td>\n",
       "      <td>74.0</td>\n",
       "      <td>9627</td>\n",
       "      <td>Pave</td>\n",
       "      <td>NaN</td>\n",
       "      <td>Reg</td>\n",
       "      <td>Lvl</td>\n",
       "      <td>AllPub</td>\n",
       "      <td>...</td>\n",
       "      <td>0</td>\n",
       "      <td>0</td>\n",
       "      <td>NaN</td>\n",
       "      <td>NaN</td>\n",
       "      <td>NaN</td>\n",
       "      <td>0</td>\n",
       "      <td>11</td>\n",
       "      <td>2006</td>\n",
       "      <td>WD</td>\n",
       "      <td>Normal</td>\n",
       "    </tr>\n",
       "  </tbody>\n",
       "</table>\n",
       "<p>1459 rows × 80 columns</p>\n",
       "</div>"
      ],
      "text/plain": [
       "        Id  MSSubClass MSZoning  LotFrontage  LotArea Street Alley LotShape  \\\n",
       "0     1461          20       RH         80.0    11622   Pave   NaN      Reg   \n",
       "1     1462          20       RL         81.0    14267   Pave   NaN      IR1   \n",
       "2     1463          60       RL         74.0    13830   Pave   NaN      IR1   \n",
       "3     1464          60       RL         78.0     9978   Pave   NaN      IR1   \n",
       "4     1465         120       RL         43.0     5005   Pave   NaN      IR1   \n",
       "...    ...         ...      ...          ...      ...    ...   ...      ...   \n",
       "1454  2915         160       RM         21.0     1936   Pave   NaN      Reg   \n",
       "1455  2916         160       RM         21.0     1894   Pave   NaN      Reg   \n",
       "1456  2917          20       RL        160.0    20000   Pave   NaN      Reg   \n",
       "1457  2918          85       RL         62.0    10441   Pave   NaN      Reg   \n",
       "1458  2919          60       RL         74.0     9627   Pave   NaN      Reg   \n",
       "\n",
       "     LandContour Utilities  ... ScreenPorch PoolArea PoolQC  Fence  \\\n",
       "0            Lvl    AllPub  ...         120        0    NaN  MnPrv   \n",
       "1            Lvl    AllPub  ...           0        0    NaN    NaN   \n",
       "2            Lvl    AllPub  ...           0        0    NaN  MnPrv   \n",
       "3            Lvl    AllPub  ...           0        0    NaN    NaN   \n",
       "4            HLS    AllPub  ...         144        0    NaN    NaN   \n",
       "...          ...       ...  ...         ...      ...    ...    ...   \n",
       "1454         Lvl    AllPub  ...           0        0    NaN    NaN   \n",
       "1455         Lvl    AllPub  ...           0        0    NaN    NaN   \n",
       "1456         Lvl    AllPub  ...           0        0    NaN    NaN   \n",
       "1457         Lvl    AllPub  ...           0        0    NaN  MnPrv   \n",
       "1458         Lvl    AllPub  ...           0        0    NaN    NaN   \n",
       "\n",
       "     MiscFeature MiscVal MoSold  YrSold  SaleType  SaleCondition  \n",
       "0            NaN       0      6    2010        WD         Normal  \n",
       "1           Gar2   12500      6    2010        WD         Normal  \n",
       "2            NaN       0      3    2010        WD         Normal  \n",
       "3            NaN       0      6    2010        WD         Normal  \n",
       "4            NaN       0      1    2010        WD         Normal  \n",
       "...          ...     ...    ...     ...       ...            ...  \n",
       "1454         NaN       0      6    2006        WD         Normal  \n",
       "1455         NaN       0      4    2006        WD        Abnorml  \n",
       "1456         NaN       0      9    2006        WD        Abnorml  \n",
       "1457        Shed     700      7    2006        WD         Normal  \n",
       "1458         NaN       0     11    2006        WD         Normal  \n",
       "\n",
       "[1459 rows x 80 columns]"
      ]
     },
     "execution_count": 3,
     "metadata": {},
     "output_type": "execute_result"
    }
   ],
   "source": [
    "# Read in the test data\n",
    "# The training data set has one additional column of independent variable: SalePrice\n",
    "df_test = pd.read_csv('./input/test.csv')\n",
    "df_test"
   ]
  },
  {
   "cell_type": "code",
   "execution_count": 4,
   "metadata": {},
   "outputs": [
    {
     "data": {
      "text/html": [
       "<div>\n",
       "<style scoped>\n",
       "    .dataframe tbody tr th:only-of-type {\n",
       "        vertical-align: middle;\n",
       "    }\n",
       "\n",
       "    .dataframe tbody tr th {\n",
       "        vertical-align: top;\n",
       "    }\n",
       "\n",
       "    .dataframe thead th {\n",
       "        text-align: right;\n",
       "    }\n",
       "</style>\n",
       "<table border=\"1\" class=\"dataframe\">\n",
       "  <thead>\n",
       "    <tr style=\"text-align: right;\">\n",
       "      <th></th>\n",
       "      <th>MSSubClass</th>\n",
       "      <th>MSZoning</th>\n",
       "      <th>LotFrontage</th>\n",
       "      <th>LotArea</th>\n",
       "      <th>Street</th>\n",
       "      <th>Alley</th>\n",
       "      <th>LotShape</th>\n",
       "      <th>LandContour</th>\n",
       "      <th>Utilities</th>\n",
       "      <th>LotConfig</th>\n",
       "      <th>...</th>\n",
       "      <th>ScreenPorch</th>\n",
       "      <th>PoolArea</th>\n",
       "      <th>PoolQC</th>\n",
       "      <th>Fence</th>\n",
       "      <th>MiscFeature</th>\n",
       "      <th>MiscVal</th>\n",
       "      <th>MoSold</th>\n",
       "      <th>YrSold</th>\n",
       "      <th>SaleType</th>\n",
       "      <th>SaleCondition</th>\n",
       "    </tr>\n",
       "  </thead>\n",
       "  <tbody>\n",
       "    <tr>\n",
       "      <th>0</th>\n",
       "      <td>60</td>\n",
       "      <td>RL</td>\n",
       "      <td>65.0</td>\n",
       "      <td>8450</td>\n",
       "      <td>Pave</td>\n",
       "      <td>NaN</td>\n",
       "      <td>Reg</td>\n",
       "      <td>Lvl</td>\n",
       "      <td>AllPub</td>\n",
       "      <td>Inside</td>\n",
       "      <td>...</td>\n",
       "      <td>0</td>\n",
       "      <td>0</td>\n",
       "      <td>NaN</td>\n",
       "      <td>NaN</td>\n",
       "      <td>NaN</td>\n",
       "      <td>0</td>\n",
       "      <td>2</td>\n",
       "      <td>2008</td>\n",
       "      <td>WD</td>\n",
       "      <td>Normal</td>\n",
       "    </tr>\n",
       "    <tr>\n",
       "      <th>1</th>\n",
       "      <td>20</td>\n",
       "      <td>RL</td>\n",
       "      <td>80.0</td>\n",
       "      <td>9600</td>\n",
       "      <td>Pave</td>\n",
       "      <td>NaN</td>\n",
       "      <td>Reg</td>\n",
       "      <td>Lvl</td>\n",
       "      <td>AllPub</td>\n",
       "      <td>FR2</td>\n",
       "      <td>...</td>\n",
       "      <td>0</td>\n",
       "      <td>0</td>\n",
       "      <td>NaN</td>\n",
       "      <td>NaN</td>\n",
       "      <td>NaN</td>\n",
       "      <td>0</td>\n",
       "      <td>5</td>\n",
       "      <td>2007</td>\n",
       "      <td>WD</td>\n",
       "      <td>Normal</td>\n",
       "    </tr>\n",
       "    <tr>\n",
       "      <th>2</th>\n",
       "      <td>60</td>\n",
       "      <td>RL</td>\n",
       "      <td>68.0</td>\n",
       "      <td>11250</td>\n",
       "      <td>Pave</td>\n",
       "      <td>NaN</td>\n",
       "      <td>IR1</td>\n",
       "      <td>Lvl</td>\n",
       "      <td>AllPub</td>\n",
       "      <td>Inside</td>\n",
       "      <td>...</td>\n",
       "      <td>0</td>\n",
       "      <td>0</td>\n",
       "      <td>NaN</td>\n",
       "      <td>NaN</td>\n",
       "      <td>NaN</td>\n",
       "      <td>0</td>\n",
       "      <td>9</td>\n",
       "      <td>2008</td>\n",
       "      <td>WD</td>\n",
       "      <td>Normal</td>\n",
       "    </tr>\n",
       "    <tr>\n",
       "      <th>3</th>\n",
       "      <td>70</td>\n",
       "      <td>RL</td>\n",
       "      <td>60.0</td>\n",
       "      <td>9550</td>\n",
       "      <td>Pave</td>\n",
       "      <td>NaN</td>\n",
       "      <td>IR1</td>\n",
       "      <td>Lvl</td>\n",
       "      <td>AllPub</td>\n",
       "      <td>Corner</td>\n",
       "      <td>...</td>\n",
       "      <td>0</td>\n",
       "      <td>0</td>\n",
       "      <td>NaN</td>\n",
       "      <td>NaN</td>\n",
       "      <td>NaN</td>\n",
       "      <td>0</td>\n",
       "      <td>2</td>\n",
       "      <td>2006</td>\n",
       "      <td>WD</td>\n",
       "      <td>Abnorml</td>\n",
       "    </tr>\n",
       "    <tr>\n",
       "      <th>4</th>\n",
       "      <td>60</td>\n",
       "      <td>RL</td>\n",
       "      <td>84.0</td>\n",
       "      <td>14260</td>\n",
       "      <td>Pave</td>\n",
       "      <td>NaN</td>\n",
       "      <td>IR1</td>\n",
       "      <td>Lvl</td>\n",
       "      <td>AllPub</td>\n",
       "      <td>FR2</td>\n",
       "      <td>...</td>\n",
       "      <td>0</td>\n",
       "      <td>0</td>\n",
       "      <td>NaN</td>\n",
       "      <td>NaN</td>\n",
       "      <td>NaN</td>\n",
       "      <td>0</td>\n",
       "      <td>12</td>\n",
       "      <td>2008</td>\n",
       "      <td>WD</td>\n",
       "      <td>Normal</td>\n",
       "    </tr>\n",
       "    <tr>\n",
       "      <th>...</th>\n",
       "      <td>...</td>\n",
       "      <td>...</td>\n",
       "      <td>...</td>\n",
       "      <td>...</td>\n",
       "      <td>...</td>\n",
       "      <td>...</td>\n",
       "      <td>...</td>\n",
       "      <td>...</td>\n",
       "      <td>...</td>\n",
       "      <td>...</td>\n",
       "      <td>...</td>\n",
       "      <td>...</td>\n",
       "      <td>...</td>\n",
       "      <td>...</td>\n",
       "      <td>...</td>\n",
       "      <td>...</td>\n",
       "      <td>...</td>\n",
       "      <td>...</td>\n",
       "      <td>...</td>\n",
       "      <td>...</td>\n",
       "      <td>...</td>\n",
       "    </tr>\n",
       "    <tr>\n",
       "      <th>1454</th>\n",
       "      <td>160</td>\n",
       "      <td>RM</td>\n",
       "      <td>21.0</td>\n",
       "      <td>1936</td>\n",
       "      <td>Pave</td>\n",
       "      <td>NaN</td>\n",
       "      <td>Reg</td>\n",
       "      <td>Lvl</td>\n",
       "      <td>AllPub</td>\n",
       "      <td>Inside</td>\n",
       "      <td>...</td>\n",
       "      <td>0</td>\n",
       "      <td>0</td>\n",
       "      <td>NaN</td>\n",
       "      <td>NaN</td>\n",
       "      <td>NaN</td>\n",
       "      <td>0</td>\n",
       "      <td>6</td>\n",
       "      <td>2006</td>\n",
       "      <td>WD</td>\n",
       "      <td>Normal</td>\n",
       "    </tr>\n",
       "    <tr>\n",
       "      <th>1455</th>\n",
       "      <td>160</td>\n",
       "      <td>RM</td>\n",
       "      <td>21.0</td>\n",
       "      <td>1894</td>\n",
       "      <td>Pave</td>\n",
       "      <td>NaN</td>\n",
       "      <td>Reg</td>\n",
       "      <td>Lvl</td>\n",
       "      <td>AllPub</td>\n",
       "      <td>Inside</td>\n",
       "      <td>...</td>\n",
       "      <td>0</td>\n",
       "      <td>0</td>\n",
       "      <td>NaN</td>\n",
       "      <td>NaN</td>\n",
       "      <td>NaN</td>\n",
       "      <td>0</td>\n",
       "      <td>4</td>\n",
       "      <td>2006</td>\n",
       "      <td>WD</td>\n",
       "      <td>Abnorml</td>\n",
       "    </tr>\n",
       "    <tr>\n",
       "      <th>1456</th>\n",
       "      <td>20</td>\n",
       "      <td>RL</td>\n",
       "      <td>160.0</td>\n",
       "      <td>20000</td>\n",
       "      <td>Pave</td>\n",
       "      <td>NaN</td>\n",
       "      <td>Reg</td>\n",
       "      <td>Lvl</td>\n",
       "      <td>AllPub</td>\n",
       "      <td>Inside</td>\n",
       "      <td>...</td>\n",
       "      <td>0</td>\n",
       "      <td>0</td>\n",
       "      <td>NaN</td>\n",
       "      <td>NaN</td>\n",
       "      <td>NaN</td>\n",
       "      <td>0</td>\n",
       "      <td>9</td>\n",
       "      <td>2006</td>\n",
       "      <td>WD</td>\n",
       "      <td>Abnorml</td>\n",
       "    </tr>\n",
       "    <tr>\n",
       "      <th>1457</th>\n",
       "      <td>85</td>\n",
       "      <td>RL</td>\n",
       "      <td>62.0</td>\n",
       "      <td>10441</td>\n",
       "      <td>Pave</td>\n",
       "      <td>NaN</td>\n",
       "      <td>Reg</td>\n",
       "      <td>Lvl</td>\n",
       "      <td>AllPub</td>\n",
       "      <td>Inside</td>\n",
       "      <td>...</td>\n",
       "      <td>0</td>\n",
       "      <td>0</td>\n",
       "      <td>NaN</td>\n",
       "      <td>MnPrv</td>\n",
       "      <td>Shed</td>\n",
       "      <td>700</td>\n",
       "      <td>7</td>\n",
       "      <td>2006</td>\n",
       "      <td>WD</td>\n",
       "      <td>Normal</td>\n",
       "    </tr>\n",
       "    <tr>\n",
       "      <th>1458</th>\n",
       "      <td>60</td>\n",
       "      <td>RL</td>\n",
       "      <td>74.0</td>\n",
       "      <td>9627</td>\n",
       "      <td>Pave</td>\n",
       "      <td>NaN</td>\n",
       "      <td>Reg</td>\n",
       "      <td>Lvl</td>\n",
       "      <td>AllPub</td>\n",
       "      <td>Inside</td>\n",
       "      <td>...</td>\n",
       "      <td>0</td>\n",
       "      <td>0</td>\n",
       "      <td>NaN</td>\n",
       "      <td>NaN</td>\n",
       "      <td>NaN</td>\n",
       "      <td>0</td>\n",
       "      <td>11</td>\n",
       "      <td>2006</td>\n",
       "      <td>WD</td>\n",
       "      <td>Normal</td>\n",
       "    </tr>\n",
       "  </tbody>\n",
       "</table>\n",
       "<p>2919 rows × 79 columns</p>\n",
       "</div>"
      ],
      "text/plain": [
       "      MSSubClass MSZoning  LotFrontage  LotArea Street Alley LotShape  \\\n",
       "0             60       RL         65.0     8450   Pave   NaN      Reg   \n",
       "1             20       RL         80.0     9600   Pave   NaN      Reg   \n",
       "2             60       RL         68.0    11250   Pave   NaN      IR1   \n",
       "3             70       RL         60.0     9550   Pave   NaN      IR1   \n",
       "4             60       RL         84.0    14260   Pave   NaN      IR1   \n",
       "...          ...      ...          ...      ...    ...   ...      ...   \n",
       "1454         160       RM         21.0     1936   Pave   NaN      Reg   \n",
       "1455         160       RM         21.0     1894   Pave   NaN      Reg   \n",
       "1456          20       RL        160.0    20000   Pave   NaN      Reg   \n",
       "1457          85       RL         62.0    10441   Pave   NaN      Reg   \n",
       "1458          60       RL         74.0     9627   Pave   NaN      Reg   \n",
       "\n",
       "     LandContour Utilities LotConfig  ... ScreenPorch PoolArea PoolQC  Fence  \\\n",
       "0            Lvl    AllPub    Inside  ...           0        0    NaN    NaN   \n",
       "1            Lvl    AllPub       FR2  ...           0        0    NaN    NaN   \n",
       "2            Lvl    AllPub    Inside  ...           0        0    NaN    NaN   \n",
       "3            Lvl    AllPub    Corner  ...           0        0    NaN    NaN   \n",
       "4            Lvl    AllPub       FR2  ...           0        0    NaN    NaN   \n",
       "...          ...       ...       ...  ...         ...      ...    ...    ...   \n",
       "1454         Lvl    AllPub    Inside  ...           0        0    NaN    NaN   \n",
       "1455         Lvl    AllPub    Inside  ...           0        0    NaN    NaN   \n",
       "1456         Lvl    AllPub    Inside  ...           0        0    NaN    NaN   \n",
       "1457         Lvl    AllPub    Inside  ...           0        0    NaN  MnPrv   \n",
       "1458         Lvl    AllPub    Inside  ...           0        0    NaN    NaN   \n",
       "\n",
       "     MiscFeature MiscVal  MoSold  YrSold  SaleType  SaleCondition  \n",
       "0            NaN       0       2    2008        WD         Normal  \n",
       "1            NaN       0       5    2007        WD         Normal  \n",
       "2            NaN       0       9    2008        WD         Normal  \n",
       "3            NaN       0       2    2006        WD        Abnorml  \n",
       "4            NaN       0      12    2008        WD         Normal  \n",
       "...          ...     ...     ...     ...       ...            ...  \n",
       "1454         NaN       0       6    2006        WD         Normal  \n",
       "1455         NaN       0       4    2006        WD        Abnorml  \n",
       "1456         NaN       0       9    2006        WD        Abnorml  \n",
       "1457        Shed     700       7    2006        WD         Normal  \n",
       "1458         NaN       0      11    2006        WD         Normal  \n",
       "\n",
       "[2919 rows x 79 columns]"
      ]
     },
     "execution_count": 4,
     "metadata": {},
     "output_type": "execute_result"
    }
   ],
   "source": [
    "# Combine the training and test data set for data processing\n",
    "# Training data set is when Id <= 1460\n",
    "df_all = pd.concat([df_train.loc[:,'MSSubClass':'SaleCondition'], df_test.loc[:,'MSSubClass':'SaleCondition']],axis = 0)\n",
    "df_all"
   ]
  },
  {
   "cell_type": "code",
   "execution_count": 5,
   "metadata": {},
   "outputs": [
    {
     "data": {
      "text/plain": [
       "Index(['MSSubClass', 'MSZoning', 'LotFrontage', 'LotArea', 'Street', 'Alley',\n",
       "       'LotShape', 'LandContour', 'Utilities', 'LotConfig', 'LandSlope',\n",
       "       'Neighborhood', 'Condition1', 'Condition2', 'BldgType', 'HouseStyle',\n",
       "       'OverallQual', 'OverallCond', 'YearBuilt', 'YearRemodAdd', 'RoofStyle',\n",
       "       'RoofMatl', 'Exterior1st', 'Exterior2nd', 'MasVnrType', 'MasVnrArea',\n",
       "       'ExterQual', 'ExterCond', 'Foundation', 'BsmtQual', 'BsmtCond',\n",
       "       'BsmtExposure', 'BsmtFinType1', 'BsmtFinSF1', 'BsmtFinType2',\n",
       "       'BsmtFinSF2', 'BsmtUnfSF', 'TotalBsmtSF', 'Heating', 'HeatingQC',\n",
       "       'CentralAir', 'Electrical', '1stFlrSF', '2ndFlrSF', 'LowQualFinSF',\n",
       "       'GrLivArea', 'BsmtFullBath', 'BsmtHalfBath', 'FullBath', 'HalfBath',\n",
       "       'BedroomAbvGr', 'KitchenAbvGr', 'KitchenQual', 'TotRmsAbvGrd',\n",
       "       'Functional', 'Fireplaces', 'FireplaceQu', 'GarageType', 'GarageYrBlt',\n",
       "       'GarageFinish', 'GarageCars', 'GarageArea', 'GarageQual', 'GarageCond',\n",
       "       'PavedDrive', 'WoodDeckSF', 'OpenPorchSF', 'EnclosedPorch', '3SsnPorch',\n",
       "       'ScreenPorch', 'PoolArea', 'PoolQC', 'Fence', 'MiscFeature', 'MiscVal',\n",
       "       'MoSold', 'YrSold', 'SaleType', 'SaleCondition'],\n",
       "      dtype='object')"
      ]
     },
     "execution_count": 5,
     "metadata": {},
     "output_type": "execute_result"
    }
   ],
   "source": [
    "# Check the names of the columns\n",
    "df_all.columns"
   ]
  },
  {
   "cell_type": "code",
   "execution_count": 6,
   "metadata": {},
   "outputs": [
    {
     "data": {
      "text/plain": [
       "count      1460.000000\n",
       "mean     180921.195890\n",
       "std       79442.502883\n",
       "min       34900.000000\n",
       "25%      129975.000000\n",
       "50%      163000.000000\n",
       "75%      214000.000000\n",
       "max      755000.000000\n",
       "Name: SalePrice, dtype: float64"
      ]
     },
     "execution_count": 6,
     "metadata": {},
     "output_type": "execute_result"
    }
   ],
   "source": [
    "# Analyze the dependent variable SalePrice\n",
    "df_train['SalePrice'].describe()"
   ]
  },
  {
   "cell_type": "code",
   "execution_count": 7,
   "metadata": {},
   "outputs": [
    {
     "data": {
      "text/plain": [
       "<matplotlib.axes._subplots.AxesSubplot at 0x2814dcceac0>"
      ]
     },
     "execution_count": 7,
     "metadata": {},
     "output_type": "execute_result"
    },
    {
     "data": {
      "image/png": "[encoded data removed]",
      "text/plain": [
       "<Figure size 432x288 with 1 Axes>"
      ]
     },
     "metadata": {
      "needs_background": "light"
     },
     "output_type": "display_data"
    }
   ],
   "source": [
    "# View the histogram of SalePrice\n",
    "sns.distplot(df_train['SalePrice'])"
   ]
  },
  {
   "cell_type": "code",
   "execution_count": 8,
   "metadata": {},
   "outputs": [
    {
     "name": "stdout",
     "output_type": "stream",
     "text": [
      "Skewness: 1.882876\n",
      "Kurtosis: 6.536282\n"
     ]
    }
   ],
   "source": [
    "# According to the histogram of SalePrice, it has positive skewness and positive kurtosis\n",
    "# Calculate the skewness and kurtosis\n",
    "print(\"Skewness: %f\" % df_train['SalePrice'].skew())\n",
    "print(\"Kurtosis: %f\" % df_train['SalePrice'].kurt())"
   ]
  },
  {
   "cell_type": "code",
   "execution_count": 9,
   "metadata": {},
   "outputs": [
    {
     "data": {
      "text/plain": [
       "<matplotlib.axes._subplots.AxesSubplot at 0x2814e541e20>"
      ]
     },
     "execution_count": 9,
     "metadata": {},
     "output_type": "execute_result"
    },
    {
     "data": {
      "image/png": "[encoded data removed]",
      "text/plain": [
       "<Figure size 432x288 with 1 Axes>"
      ]
     },
     "metadata": {
      "needs_background": "light"
     },
     "output_type": "display_data"
    }
   ],
   "source": [
    "# Scatter plot of some key variables\n",
    "sns.scatterplot(x = df_train['GrLivArea'], y = df_train['SalePrice'])"
   ]
  },
  {
   "cell_type": "code",
   "execution_count": 10,
   "metadata": {},
   "outputs": [
    {
     "data": {
      "text/plain": [
       "<matplotlib.axes._subplots.AxesSubplot at 0x2814e5bdf10>"
      ]
     },
     "execution_count": 10,
     "metadata": {},
     "output_type": "execute_result"
    },
    {
     "data": {
      "image/png": "[encoded data removed]",
      "text/plain": [
       "<Figure size 432x288 with 1 Axes>"
      ]
     },
     "metadata": {
      "needs_background": "light"
     },
     "output_type": "display_data"
    }
   ],
   "source": [
    "sns.scatterplot(x = df_train['TotalBsmtSF'], y = df_train['SalePrice'])"
   ]
  },
  {
   "cell_type": "code",
   "execution_count": 11,
   "metadata": {},
   "outputs": [
    {
     "data": {
      "text/plain": [
       "(array([  0,   1,   2,   3,   4,   5,   6,   7,   8,   9,  10,  11,  12,\n",
       "         13,  14,  15,  16,  17,  18,  19,  20,  21,  22,  23,  24,  25,\n",
       "         26,  27,  28,  29,  30,  31,  32,  33,  34,  35,  36,  37,  38,\n",
       "         39,  40,  41,  42,  43,  44,  45,  46,  47,  48,  49,  50,  51,\n",
       "         52,  53,  54,  55,  56,  57,  58,  59,  60,  61,  62,  63,  64,\n",
       "         65,  66,  67,  68,  69,  70,  71,  72,  73,  74,  75,  76,  77,\n",
       "         78,  79,  80,  81,  82,  83,  84,  85,  86,  87,  88,  89,  90,\n",
       "         91,  92,  93,  94,  95,  96,  97,  98,  99, 100, 101, 102, 103,\n",
       "        104, 105, 106, 107, 108, 109, 110, 111]),\n",
       " <a list of 112 Text major ticklabel objects>)"
      ]
     },
     "execution_count": 11,
     "metadata": {},
     "output_type": "execute_result"
    },
    {
     "data": {
      "image/png": "[encoded data removed]",
      "text/plain": [
       "<Figure size 1080x576 with 1 Axes>"
      ]
     },
     "metadata": {
      "needs_background": "light"
     },
     "output_type": "display_data"
    }
   ],
   "source": [
    "# Boxplot of some categorical variables\n",
    "plt.subplots(figsize=(15,8))\n",
    "fig = sns.boxplot(x = df_train['YearBuilt'], y = df_train['SalePrice'])\n",
    "fig.axis(ymin = 0, ymax = 800000)\n",
    "plt.xticks(rotation=90)"
   ]
  },
  {
   "cell_type": "code",
   "execution_count": 12,
   "metadata": {},
   "outputs": [
    {
     "data": {
      "text/plain": [
       "<matplotlib.axes._subplots.AxesSubplot at 0x2815020ffd0>"
      ]
     },
     "execution_count": 12,
     "metadata": {},
     "output_type": "execute_result"
    },
    {
     "data": {
      "image/png": "[encoded data removed]",
      "text/plain": [
       "<Figure size 576x432 with 1 Axes>"
      ]
     },
     "metadata": {
      "needs_background": "light"
     },
     "output_type": "display_data"
    }
   ],
   "source": [
    "# Boxplot of some of the categorical variables\n",
    "plt.subplots(figsize=(8, 6))\n",
    "sns.boxplot(x = df_train['OverallQual'], y = df_train['SalePrice'])"
   ]
  },
  {
   "cell_type": "code",
   "execution_count": 13,
   "metadata": {},
   "outputs": [
    {
     "data": {
      "text/plain": [
       "<matplotlib.axes._subplots.AxesSubplot at 0x281504a9760>"
      ]
     },
     "execution_count": 13,
     "metadata": {},
     "output_type": "execute_result"
    },
    {
     "data": {
      "image/png": "[encoded data removed]",
      "text/plain": [
       "<Figure size 864x648 with 2 Axes>"
      ]
     },
     "metadata": {
      "needs_background": "light"
     },
     "output_type": "display_data"
    }
   ],
   "source": [
    "#we can further check the heatmap of the correlation matrix\n",
    "corrmat = df_train.corr()\n",
    "plt.subplots(figsize=(12,9))\n",
    "sns.heatmap(corrmat)"
   ]
  },
  {
   "cell_type": "code",
   "execution_count": 14,
   "metadata": {},
   "outputs": [
    {
     "data": {
      "text/plain": [
       "Index(['SalePrice', 'OverallQual', 'GrLivArea', 'GarageCars', 'GarageArea',\n",
       "       'TotalBsmtSF', '1stFlrSF', 'FullBath', 'TotRmsAbvGrd', 'YearBuilt'],\n",
       "      dtype='object')"
      ]
     },
     "execution_count": 14,
     "metadata": {},
     "output_type": "execute_result"
    }
   ],
   "source": [
    "# Heatmap of the 10 most correlated features with SalePrice\n",
    "k = 10\n",
    "cols = corrmat.nlargest(k,'SalePrice')['SalePrice'].index\n",
    "cols"
   ]
  },
  {
   "cell_type": "code",
   "execution_count": 15,
   "metadata": {},
   "outputs": [
    {
     "data": {
      "text/plain": [
       "array([[1.        , 0.7909816 , 0.70862448, 0.6404092 , 0.62343144,\n",
       "        0.61358055, 0.60585218, 0.56066376, 0.53372316, 0.52289733],\n",
       "       [0.7909816 , 1.        , 0.59300743, 0.60067072, 0.56202176,\n",
       "        0.5378085 , 0.47622383, 0.55059971, 0.42745234, 0.57232277],\n",
       "       [0.70862448, 0.59300743, 1.        , 0.46724742, 0.46899748,\n",
       "        0.4548682 , 0.56602397, 0.63001165, 0.82548937, 0.19900971],\n",
       "       [0.6404092 , 0.60067072, 0.46724742, 1.        , 0.88247541,\n",
       "        0.43458483, 0.43931681, 0.46967204, 0.36228857, 0.53785009],\n",
       "       [0.62343144, 0.56202176, 0.46899748, 0.88247541, 1.        ,\n",
       "        0.48666546, 0.48978165, 0.40565621, 0.33782212, 0.47895382],\n",
       "       [0.61358055, 0.5378085 , 0.4548682 , 0.43458483, 0.48666546,\n",
       "        1.        , 0.81952998, 0.32372241, 0.28557256, 0.391452  ],\n",
       "       [0.60585218, 0.47622383, 0.56602397, 0.43931681, 0.48978165,\n",
       "        0.81952998, 1.        , 0.38063749, 0.40951598, 0.28198586],\n",
       "       [0.56066376, 0.55059971, 0.63001165, 0.46967204, 0.40565621,\n",
       "        0.32372241, 0.38063749, 1.        , 0.55478425, 0.46827079],\n",
       "       [0.53372316, 0.42745234, 0.82548937, 0.36228857, 0.33782212,\n",
       "        0.28557256, 0.40951598, 0.55478425, 1.        , 0.09558913],\n",
       "       [0.52289733, 0.57232277, 0.19900971, 0.53785009, 0.47895382,\n",
       "        0.391452  , 0.28198586, 0.46827079, 0.09558913, 1.        ]])"
      ]
     },
     "execution_count": 15,
     "metadata": {},
     "output_type": "execute_result"
    }
   ],
   "source": [
    "cm = np.corrcoef(df_train[cols].values.T)\n",
    "cm"
   ]
  },
  {
   "cell_type": "code",
   "execution_count": 16,
   "metadata": {},
   "outputs": [
    {
     "data": {
      "text/plain": [
       "<matplotlib.axes._subplots.AxesSubplot at 0x2815084cc70>"
      ]
     },
     "execution_count": 16,
     "metadata": {},
     "output_type": "execute_result"
    },
    {
     "data": {
      "image/png": "[encoded data removed]",
      "text/plain": [
       "<Figure size 432x288 with 2 Axes>"
      ]
     },
     "metadata": {
      "needs_background": "light"
     },
     "output_type": "display_data"
    }
   ],
   "source": [
    "sns.heatmap(cm, yticklabels=cols.values, xticklabels=cols.values, annot=True)"
   ]
  },
  {
   "cell_type": "code",
   "execution_count": 17,
   "metadata": {},
   "outputs": [
    {
     "data": {
      "text/plain": [
       "<matplotlib.axes._subplots.AxesSubplot at 0x28150839b50>"
      ]
     },
     "execution_count": 17,
     "metadata": {},
     "output_type": "execute_result"
    },
    {
     "data": {
      "image/png": "[encoded data removed]",
      "text/plain": [
       "<Figure size 432x288 with 1 Axes>"
      ]
     },
     "metadata": {
      "needs_background": "light"
     },
     "output_type": "display_data"
    }
   ],
   "source": [
    "# Applying log transformation to SalePrice as it is not normal\n",
    "df_train['SalePrice'] = np.log(df_train['SalePrice'])\n",
    "sns.distplot(df_train['SalePrice'], fit=norm)"
   ]
  },
  {
   "cell_type": "code",
   "execution_count": 18,
   "metadata": {},
   "outputs": [
    {
     "data": {
      "text/html": [
       "<div>\n",
       "<style scoped>\n",
       "    .dataframe tbody tr th:only-of-type {\n",
       "        vertical-align: middle;\n",
       "    }\n",
       "\n",
       "    .dataframe tbody tr th {\n",
       "        vertical-align: top;\n",
       "    }\n",
       "\n",
       "    .dataframe thead th {\n",
       "        text-align: right;\n",
       "    }\n",
       "</style>\n",
       "<table border=\"1\" class=\"dataframe\">\n",
       "  <thead>\n",
       "    <tr style=\"text-align: right;\">\n",
       "      <th></th>\n",
       "      <th>Missing Ratio</th>\n",
       "    </tr>\n",
       "  </thead>\n",
       "  <tbody>\n",
       "    <tr>\n",
       "      <th>PoolQC</th>\n",
       "      <td>99.657417</td>\n",
       "    </tr>\n",
       "    <tr>\n",
       "      <th>MiscFeature</th>\n",
       "      <td>96.402878</td>\n",
       "    </tr>\n",
       "    <tr>\n",
       "      <th>Alley</th>\n",
       "      <td>93.216855</td>\n",
       "    </tr>\n",
       "    <tr>\n",
       "      <th>Fence</th>\n",
       "      <td>80.438506</td>\n",
       "    </tr>\n",
       "    <tr>\n",
       "      <th>FireplaceQu</th>\n",
       "      <td>48.646797</td>\n",
       "    </tr>\n",
       "    <tr>\n",
       "      <th>LotFrontage</th>\n",
       "      <td>16.649538</td>\n",
       "    </tr>\n",
       "    <tr>\n",
       "      <th>GarageFinish</th>\n",
       "      <td>5.447071</td>\n",
       "    </tr>\n",
       "    <tr>\n",
       "      <th>GarageYrBlt</th>\n",
       "      <td>5.447071</td>\n",
       "    </tr>\n",
       "    <tr>\n",
       "      <th>GarageQual</th>\n",
       "      <td>5.447071</td>\n",
       "    </tr>\n",
       "    <tr>\n",
       "      <th>GarageCond</th>\n",
       "      <td>5.447071</td>\n",
       "    </tr>\n",
       "    <tr>\n",
       "      <th>GarageType</th>\n",
       "      <td>5.378554</td>\n",
       "    </tr>\n",
       "    <tr>\n",
       "      <th>BsmtExposure</th>\n",
       "      <td>2.809181</td>\n",
       "    </tr>\n",
       "    <tr>\n",
       "      <th>BsmtCond</th>\n",
       "      <td>2.809181</td>\n",
       "    </tr>\n",
       "    <tr>\n",
       "      <th>BsmtQual</th>\n",
       "      <td>2.774923</td>\n",
       "    </tr>\n",
       "    <tr>\n",
       "      <th>BsmtFinType2</th>\n",
       "      <td>2.740665</td>\n",
       "    </tr>\n",
       "    <tr>\n",
       "      <th>BsmtFinType1</th>\n",
       "      <td>2.706406</td>\n",
       "    </tr>\n",
       "    <tr>\n",
       "      <th>MasVnrType</th>\n",
       "      <td>0.822199</td>\n",
       "    </tr>\n",
       "    <tr>\n",
       "      <th>MasVnrArea</th>\n",
       "      <td>0.787941</td>\n",
       "    </tr>\n",
       "    <tr>\n",
       "      <th>MSZoning</th>\n",
       "      <td>0.137033</td>\n",
       "    </tr>\n",
       "    <tr>\n",
       "      <th>BsmtFullBath</th>\n",
       "      <td>0.068517</td>\n",
       "    </tr>\n",
       "    <tr>\n",
       "      <th>BsmtHalfBath</th>\n",
       "      <td>0.068517</td>\n",
       "    </tr>\n",
       "    <tr>\n",
       "      <th>Utilities</th>\n",
       "      <td>0.068517</td>\n",
       "    </tr>\n",
       "    <tr>\n",
       "      <th>Functional</th>\n",
       "      <td>0.068517</td>\n",
       "    </tr>\n",
       "    <tr>\n",
       "      <th>Exterior2nd</th>\n",
       "      <td>0.034258</td>\n",
       "    </tr>\n",
       "    <tr>\n",
       "      <th>Exterior1st</th>\n",
       "      <td>0.034258</td>\n",
       "    </tr>\n",
       "    <tr>\n",
       "      <th>SaleType</th>\n",
       "      <td>0.034258</td>\n",
       "    </tr>\n",
       "    <tr>\n",
       "      <th>BsmtFinSF1</th>\n",
       "      <td>0.034258</td>\n",
       "    </tr>\n",
       "    <tr>\n",
       "      <th>BsmtFinSF2</th>\n",
       "      <td>0.034258</td>\n",
       "    </tr>\n",
       "    <tr>\n",
       "      <th>BsmtUnfSF</th>\n",
       "      <td>0.034258</td>\n",
       "    </tr>\n",
       "    <tr>\n",
       "      <th>Electrical</th>\n",
       "      <td>0.034258</td>\n",
       "    </tr>\n",
       "    <tr>\n",
       "      <th>KitchenQual</th>\n",
       "      <td>0.034258</td>\n",
       "    </tr>\n",
       "    <tr>\n",
       "      <th>GarageCars</th>\n",
       "      <td>0.034258</td>\n",
       "    </tr>\n",
       "    <tr>\n",
       "      <th>GarageArea</th>\n",
       "      <td>0.034258</td>\n",
       "    </tr>\n",
       "    <tr>\n",
       "      <th>TotalBsmtSF</th>\n",
       "      <td>0.034258</td>\n",
       "    </tr>\n",
       "  </tbody>\n",
       "</table>\n",
       "</div>"
      ],
      "text/plain": [
       "              Missing Ratio\n",
       "PoolQC            99.657417\n",
       "MiscFeature       96.402878\n",
       "Alley             93.216855\n",
       "Fence             80.438506\n",
       "FireplaceQu       48.646797\n",
       "LotFrontage       16.649538\n",
       "GarageFinish       5.447071\n",
       "GarageYrBlt        5.447071\n",
       "GarageQual         5.447071\n",
       "GarageCond         5.447071\n",
       "GarageType         5.378554\n",
       "BsmtExposure       2.809181\n",
       "BsmtCond           2.809181\n",
       "BsmtQual           2.774923\n",
       "BsmtFinType2       2.740665\n",
       "BsmtFinType1       2.706406\n",
       "MasVnrType         0.822199\n",
       "MasVnrArea         0.787941\n",
       "MSZoning           0.137033\n",
       "BsmtFullBath       0.068517\n",
       "BsmtHalfBath       0.068517\n",
       "Utilities          0.068517\n",
       "Functional         0.068517\n",
       "Exterior2nd        0.034258\n",
       "Exterior1st        0.034258\n",
       "SaleType           0.034258\n",
       "BsmtFinSF1         0.034258\n",
       "BsmtFinSF2         0.034258\n",
       "BsmtUnfSF          0.034258\n",
       "Electrical         0.034258\n",
       "KitchenQual        0.034258\n",
       "GarageCars         0.034258\n",
       "GarageArea         0.034258\n",
       "TotalBsmtSF        0.034258"
      ]
     },
     "execution_count": 18,
     "metadata": {},
     "output_type": "execute_result"
    }
   ],
   "source": [
    "# Then we want to check missing data for both training and test data set\n",
    "df_all_na = (df_all.isnull().sum() / len(df_all)) * 100\n",
    "df_all_na = df_all_na.drop(df_all_na[df_all_na == 0].index).sort_values(ascending=False)\n",
    "missing_data = pd.DataFrame({'Missing Ratio' :df_all_na})\n",
    "missing_data"
   ]
  },
  {
   "cell_type": "code",
   "execution_count": 19,
   "metadata": {},
   "outputs": [
    {
     "data": {
      "text/plain": [
       "Text(0.5, 1.0, 'Percent missing data by feature')"
      ]
     },
     "execution_count": 19,
     "metadata": {},
     "output_type": "execute_result"
    },
    {
     "data": {
      "image/png": "[encoded data removed]",
      "text/plain": [
       "<Figure size 648x504 with 1 Axes>"
      ]
     },
     "metadata": {
      "needs_background": "light"
     },
     "output_type": "display_data"
    }
   ],
   "source": [
    "# Plot the percentage of missing by feature\n",
    "f, ax = plt.subplots(figsize=(9, 7))\n",
    "plt.xticks(rotation='90')\n",
    "sns.barplot(x=df_all_na.index, y=df_all_na)\n",
    "plt.xlabel('Features', fontsize=15)\n",
    "plt.ylabel('Percent of missing values', fontsize=15)\n",
    "plt.title('Percent missing data by feature', fontsize=15)"
   ]
  },
  {
   "cell_type": "markdown",
   "metadata": {},
   "source": [
    "Then we deal with missing values by imputation. "
   ]
  },
  {
   "cell_type": "code",
   "execution_count": 20,
   "metadata": {},
   "outputs": [],
   "source": [
    "# PoolQC : data description says NA means \"No Pool\". That make sense, given the huge ratio of missing value (+99%) and majority of houses have no Pool at all in general.\n",
    "df_all[\"PoolQC\"] = df_all[\"PoolQC\"].fillna(\"None\")"
   ]
  },
  {
   "cell_type": "code",
   "execution_count": 21,
   "metadata": {},
   "outputs": [],
   "source": [
    "# MiscFeature : data description says NA means \"no misc feature\"\n",
    "df_all[\"MiscFeature\"] = df_all[\"MiscFeature\"].fillna(\"None\")"
   ]
  },
  {
   "cell_type": "code",
   "execution_count": 22,
   "metadata": {},
   "outputs": [],
   "source": [
    "# Alley : data description says NA means \"no alley access\"\n",
    "df_all[\"Alley\"] = df_all[\"Alley\"].fillna(\"None\")"
   ]
  },
  {
   "cell_type": "code",
   "execution_count": 23,
   "metadata": {},
   "outputs": [],
   "source": [
    "# Fence : data description says NA means \"no fence\"\n",
    "df_all[\"Fence\"] = df_all[\"Fence\"].fillna(\"None\")"
   ]
  },
  {
   "cell_type": "code",
   "execution_count": 24,
   "metadata": {},
   "outputs": [],
   "source": [
    "# FireplaceQu : data description says NA means \"no fireplace\"\n",
    "df_all[\"FireplaceQu\"] = df_all[\"FireplaceQu\"].fillna(\"None\")"
   ]
  },
  {
   "cell_type": "code",
   "execution_count": 25,
   "metadata": {},
   "outputs": [],
   "source": [
    "# LotFrontage : Since the area of each street connected to the house property most likely have a similar area to other houses in its neighborhood , we can fill in missing values by the median LotFrontage of the neighborhood.\n",
    "df_all[\"LotFrontage\"] = df_all.groupby(\"Neighborhood\")[\"LotFrontage\"].transform(\n",
    "    lambda x: x.fillna(x.median()))"
   ]
  },
  {
   "cell_type": "code",
   "execution_count": 26,
   "metadata": {},
   "outputs": [],
   "source": [
    "# GarageType, GarageFinish, GarageQual and GarageCond : Replacing missing data with None\n",
    "for col in ('GarageType', 'GarageFinish', 'GarageQual', 'GarageCond'):\n",
    "    df_all[col] = df_all[col].fillna('None')"
   ]
  },
  {
   "cell_type": "code",
   "execution_count": 27,
   "metadata": {},
   "outputs": [],
   "source": [
    "# GarageYrBlt, GarageArea and GarageCars : Replacing missing data with 0 (Since No garage = no cars in such garage.)\n",
    "for col in ('GarageYrBlt', 'GarageArea', 'GarageCars'):\n",
    "    df_all[col] = df_all[col].fillna(0)"
   ]
  },
  {
   "cell_type": "code",
   "execution_count": 28,
   "metadata": {},
   "outputs": [],
   "source": [
    "# BsmtFinSF1, BsmtFinSF2, BsmtUnfSF, TotalBsmtSF, BsmtFullBath and BsmtHalfBath : missing values are likely zero for having no basement\n",
    "for col in ('BsmtFinSF1', 'BsmtFinSF2', 'BsmtUnfSF','TotalBsmtSF', 'BsmtFullBath', 'BsmtHalfBath'):\n",
    "    df_all[col] = df_all[col].fillna(0)"
   ]
  },
  {
   "cell_type": "code",
   "execution_count": 29,
   "metadata": {},
   "outputs": [],
   "source": [
    "# BsmtQual, BsmtCond, BsmtExposure, BsmtFinType1 and BsmtFinType2 : For all these categorical basement-related features, NaN means that there is no basement.\n",
    "for col in ('BsmtQual', 'BsmtCond', 'BsmtExposure', 'BsmtFinType1', 'BsmtFinType2'):\n",
    "    df_all[col] = df_all[col].fillna('None')"
   ]
  },
  {
   "cell_type": "code",
   "execution_count": 30,
   "metadata": {},
   "outputs": [],
   "source": [
    "# MasVnrArea and MasVnrType : NA most likely means no masonry veneer for these houses. We can fill 0 for the area and None for the type.\n",
    "df_all[\"MasVnrType\"] = df_all[\"MasVnrType\"].fillna(\"None\")\n",
    "df_all[\"MasVnrArea\"] = df_all[\"MasVnrArea\"].fillna(0)"
   ]
  },
  {
   "cell_type": "code",
   "execution_count": 31,
   "metadata": {},
   "outputs": [],
   "source": [
    "# MSZoning (The general zoning classification) : 'RL' is by far the most common value. So we can fill in missing values with 'RL'\n",
    "df_all['MSZoning'] = df_all['MSZoning'].fillna(df_all['MSZoning'].mode()[0])"
   ]
  },
  {
   "cell_type": "code",
   "execution_count": 32,
   "metadata": {},
   "outputs": [],
   "source": [
    "# Utilities : For this categorical feature all records are \"AllPub\", except for one \"NoSeWa\" and 2 NA . Since the house with 'NoSewa' is in the training set, this feature won't help in predictive modelling. We can then safely remove it.\n",
    "df_all = df_all.drop(['Utilities'], axis=1)"
   ]
  },
  {
   "cell_type": "code",
   "execution_count": 33,
   "metadata": {},
   "outputs": [],
   "source": [
    "# Functional : data description says NA means typical\n",
    "df_all[\"Functional\"] = df_all[\"Functional\"].fillna(\"Typ\")"
   ]
  },
  {
   "cell_type": "code",
   "execution_count": 34,
   "metadata": {},
   "outputs": [],
   "source": [
    "# Electrical : It has one NA value. Since this feature has mostly 'SBrkr', we can set that for the missing value.\n",
    "df_all['Electrical'] = df_all['Electrical'].fillna(df_all['Electrical'].mode()[0])"
   ]
  },
  {
   "cell_type": "code",
   "execution_count": 35,
   "metadata": {},
   "outputs": [],
   "source": [
    "# KitchenQual: Only one NA value, and same as Electrical, we set 'TA' (which is the most frequent) for the missing value in KitchenQual.\n",
    "df_all['KitchenQual'] = df_all['KitchenQual'].fillna(df_all['KitchenQual'].mode()[0])"
   ]
  },
  {
   "cell_type": "code",
   "execution_count": 36,
   "metadata": {},
   "outputs": [],
   "source": [
    "# Exterior1st and Exterior2nd : Again Both Exterior 1 & 2 have only one missing value. We will just substitute in the most common string\n",
    "df_all['Exterior1st'] = df_all['Exterior1st'].fillna(df_all['Exterior1st'].mode()[0])\n",
    "df_all['Exterior2nd'] = df_all['Exterior2nd'].fillna(df_all['Exterior2nd'].mode()[0])"
   ]
  },
  {
   "cell_type": "code",
   "execution_count": 37,
   "metadata": {},
   "outputs": [],
   "source": [
    "# SaleType : Fill in again with most frequent which is \"WD\"\n",
    "df_all['SaleType'] = df_all['SaleType'].fillna(df_all['SaleType'].mode()[0])"
   ]
  },
  {
   "cell_type": "code",
   "execution_count": 38,
   "metadata": {},
   "outputs": [
    {
     "data": {
      "text/plain": [
       "0"
      ]
     },
     "execution_count": 38,
     "metadata": {},
     "output_type": "execute_result"
    }
   ],
   "source": [
    "# Check if there is still any missing data\n",
    "df_all.isnull().sum().max()"
   ]
  },
  {
   "cell_type": "markdown",
   "metadata": {},
   "source": [
    "Transforming some numerical variables that are actually categorical variables."
   ]
  },
  {
   "cell_type": "code",
   "execution_count": 39,
   "metadata": {},
   "outputs": [],
   "source": [
    "#MSSubClass=The building class\n",
    "for col in ('MSSubClass','OverallCond','MoSold',):\n",
    "    df_all[col] = df_all[col].astype(str)"
   ]
  },
  {
   "cell_type": "markdown",
   "metadata": {},
   "source": [
    "Deal with highly skewed variables in the data"
   ]
  },
  {
   "cell_type": "code",
   "execution_count": 40,
   "metadata": {},
   "outputs": [
    {
     "name": "stdout",
     "output_type": "stream",
     "text": [
      "\n",
      "Skew in numerical features: \n",
      "\n"
     ]
    },
    {
     "data": {
      "text/html": [
       "<div>\n",
       "<style scoped>\n",
       "    .dataframe tbody tr th:only-of-type {\n",
       "        vertical-align: middle;\n",
       "    }\n",
       "\n",
       "    .dataframe tbody tr th {\n",
       "        vertical-align: top;\n",
       "    }\n",
       "\n",
       "    .dataframe thead th {\n",
       "        text-align: right;\n",
       "    }\n",
       "</style>\n",
       "<table border=\"1\" class=\"dataframe\">\n",
       "  <thead>\n",
       "    <tr style=\"text-align: right;\">\n",
       "      <th></th>\n",
       "      <th>Skew</th>\n",
       "    </tr>\n",
       "  </thead>\n",
       "  <tbody>\n",
       "    <tr>\n",
       "      <th>MiscVal</th>\n",
       "      <td>21.947195</td>\n",
       "    </tr>\n",
       "    <tr>\n",
       "      <th>PoolArea</th>\n",
       "      <td>16.898328</td>\n",
       "    </tr>\n",
       "    <tr>\n",
       "      <th>LotArea</th>\n",
       "      <td>12.822431</td>\n",
       "    </tr>\n",
       "    <tr>\n",
       "      <th>LowQualFinSF</th>\n",
       "      <td>12.088761</td>\n",
       "    </tr>\n",
       "    <tr>\n",
       "      <th>3SsnPorch</th>\n",
       "      <td>11.376065</td>\n",
       "    </tr>\n",
       "    <tr>\n",
       "      <th>KitchenAbvGr</th>\n",
       "      <td>4.302254</td>\n",
       "    </tr>\n",
       "    <tr>\n",
       "      <th>BsmtFinSF2</th>\n",
       "      <td>4.146143</td>\n",
       "    </tr>\n",
       "    <tr>\n",
       "      <th>EnclosedPorch</th>\n",
       "      <td>4.003891</td>\n",
       "    </tr>\n",
       "    <tr>\n",
       "      <th>ScreenPorch</th>\n",
       "      <td>3.946694</td>\n",
       "    </tr>\n",
       "    <tr>\n",
       "      <th>BsmtHalfBath</th>\n",
       "      <td>3.931594</td>\n",
       "    </tr>\n",
       "  </tbody>\n",
       "</table>\n",
       "</div>"
      ],
      "text/plain": [
       "                    Skew\n",
       "MiscVal        21.947195\n",
       "PoolArea       16.898328\n",
       "LotArea        12.822431\n",
       "LowQualFinSF   12.088761\n",
       "3SsnPorch      11.376065\n",
       "KitchenAbvGr    4.302254\n",
       "BsmtFinSF2      4.146143\n",
       "EnclosedPorch   4.003891\n",
       "ScreenPorch     3.946694\n",
       "BsmtHalfBath    3.931594"
      ]
     },
     "execution_count": 40,
     "metadata": {},
     "output_type": "execute_result"
    }
   ],
   "source": [
    "from scipy.stats import skew\n",
    "numeric_feats = df_all.dtypes[df_all.dtypes != \"object\"].index\n",
    "\n",
    "# Check the skew of all numerical features\n",
    "skewed_feats = df_all[numeric_feats].apply(lambda x: skew(x.dropna())).sort_values(ascending=False)\n",
    "print(\"\\nSkew in numerical features: \\n\")\n",
    "skewness = pd.DataFrame({'Skew' :skewed_feats})\n",
    "skewness.head(10)"
   ]
  },
  {
   "cell_type": "code",
   "execution_count": 41,
   "metadata": {},
   "outputs": [
    {
     "name": "stdout",
     "output_type": "stream",
     "text": [
      "There are 33 skewed numerical features to Box Cox transform\n"
     ]
    }
   ],
   "source": [
    "skewness = skewness[abs(skewness) > 0.75]\n",
    "print(\"There are {} skewed numerical features to Box Cox transform\".format(skewness.shape[0]))\n",
    "\n",
    "from scipy.special import boxcox\n",
    "skewed_features = skewness.index\n",
    "lam = 0.15\n",
    "for feat in skewed_features:\n",
    "    df_all[feat] = boxcox(df_all[feat], lam)"
   ]
  },
  {
   "cell_type": "markdown",
   "metadata": {},
   "source": [
    "Label Eoncoding"
   ]
  },
  {
   "cell_type": "code",
   "execution_count": 42,
   "metadata": {},
   "outputs": [],
   "source": [
    "cols = ('FireplaceQu', 'BsmtQual', 'BsmtCond', 'GarageQual', 'GarageCond', \n",
    "        'ExterQual', 'ExterCond','HeatingQC', 'PoolQC', 'KitchenQual', 'BsmtFinType1', \n",
    "        'BsmtFinType2', 'Functional', 'Fence', 'BsmtExposure', 'GarageFinish', 'LandSlope',\n",
    "        'LotShape', 'PavedDrive', 'Street', 'Alley', 'CentralAir', 'MSSubClass', 'OverallCond', \n",
    "        'YrSold', 'MoSold')"
   ]
  },
  {
   "cell_type": "code",
   "execution_count": 43,
   "metadata": {},
   "outputs": [],
   "source": [
    "# process columns, apply LabelEncoder to categorical features\n",
    "for c in cols:\n",
    "    lbl = LabelEncoder() \n",
    "    lbl.fit(list(df_all[c].values)) \n",
    "    df_all[c] = lbl.transform(list(df_all[c].values))"
   ]
  },
  {
   "cell_type": "code",
   "execution_count": 44,
   "metadata": {},
   "outputs": [
    {
     "data": {
      "text/plain": [
       "(2919, 78)"
      ]
     },
     "execution_count": 44,
     "metadata": {},
     "output_type": "execute_result"
    }
   ],
   "source": [
    "df_all.shape"
   ]
  },
  {
   "cell_type": "code",
   "execution_count": 45,
   "metadata": {},
   "outputs": [
    {
     "name": "stdout",
     "output_type": "stream",
     "text": [
      "(2919, 220)\n"
     ]
    }
   ],
   "source": [
    "# Transform categorical variables to dummy variables\n",
    "df_all = pd.get_dummies(df_all)\n",
    "print(df_all.shape)"
   ]
  },
  {
   "cell_type": "code",
   "execution_count": 46,
   "metadata": {},
   "outputs": [
    {
     "data": {
      "text/html": [
       "<div>\n",
       "<style scoped>\n",
       "    .dataframe tbody tr th:only-of-type {\n",
       "        vertical-align: middle;\n",
       "    }\n",
       "\n",
       "    .dataframe tbody tr th {\n",
       "        vertical-align: top;\n",
       "    }\n",
       "\n",
       "    .dataframe thead th {\n",
       "        text-align: right;\n",
       "    }\n",
       "</style>\n",
       "<table border=\"1\" class=\"dataframe\">\n",
       "  <thead>\n",
       "    <tr style=\"text-align: right;\">\n",
       "      <th></th>\n",
       "      <th>MSSubClass</th>\n",
       "      <th>LotFrontage</th>\n",
       "      <th>LotArea</th>\n",
       "      <th>Street</th>\n",
       "      <th>Alley</th>\n",
       "      <th>LotShape</th>\n",
       "      <th>LandSlope</th>\n",
       "      <th>OverallQual</th>\n",
       "      <th>OverallCond</th>\n",
       "      <th>YearBuilt</th>\n",
       "      <th>...</th>\n",
       "      <th>SaleType_ConLw</th>\n",
       "      <th>SaleType_New</th>\n",
       "      <th>SaleType_Oth</th>\n",
       "      <th>SaleType_WD</th>\n",
       "      <th>SaleCondition_Abnorml</th>\n",
       "      <th>SaleCondition_AdjLand</th>\n",
       "      <th>SaleCondition_Alloca</th>\n",
       "      <th>SaleCondition_Family</th>\n",
       "      <th>SaleCondition_Normal</th>\n",
       "      <th>SaleCondition_Partial</th>\n",
       "    </tr>\n",
       "  </thead>\n",
       "  <tbody>\n",
       "    <tr>\n",
       "      <th>0</th>\n",
       "      <td>10</td>\n",
       "      <td>5.802739</td>\n",
       "      <td>19.211723</td>\n",
       "      <td>1</td>\n",
       "      <td>1</td>\n",
       "      <td>3</td>\n",
       "      <td>0</td>\n",
       "      <td>2.259674</td>\n",
       "      <td>4</td>\n",
       "      <td>14.185966</td>\n",
       "      <td>...</td>\n",
       "      <td>0</td>\n",
       "      <td>0</td>\n",
       "      <td>0</td>\n",
       "      <td>1</td>\n",
       "      <td>0</td>\n",
       "      <td>0</td>\n",
       "      <td>0</td>\n",
       "      <td>0</td>\n",
       "      <td>1</td>\n",
       "      <td>0</td>\n",
       "    </tr>\n",
       "    <tr>\n",
       "      <th>1</th>\n",
       "      <td>5</td>\n",
       "      <td>6.197221</td>\n",
       "      <td>19.711793</td>\n",
       "      <td>1</td>\n",
       "      <td>1</td>\n",
       "      <td>3</td>\n",
       "      <td>0</td>\n",
       "      <td>2.055642</td>\n",
       "      <td>7</td>\n",
       "      <td>14.143559</td>\n",
       "      <td>...</td>\n",
       "      <td>0</td>\n",
       "      <td>0</td>\n",
       "      <td>0</td>\n",
       "      <td>1</td>\n",
       "      <td>0</td>\n",
       "      <td>0</td>\n",
       "      <td>0</td>\n",
       "      <td>0</td>\n",
       "      <td>1</td>\n",
       "      <td>0</td>\n",
       "    </tr>\n",
       "    <tr>\n",
       "      <th>2</th>\n",
       "      <td>10</td>\n",
       "      <td>5.887419</td>\n",
       "      <td>20.346881</td>\n",
       "      <td>1</td>\n",
       "      <td>1</td>\n",
       "      <td>0</td>\n",
       "      <td>0</td>\n",
       "      <td>2.259674</td>\n",
       "      <td>4</td>\n",
       "      <td>14.182841</td>\n",
       "      <td>...</td>\n",
       "      <td>0</td>\n",
       "      <td>0</td>\n",
       "      <td>0</td>\n",
       "      <td>1</td>\n",
       "      <td>0</td>\n",
       "      <td>0</td>\n",
       "      <td>0</td>\n",
       "      <td>0</td>\n",
       "      <td>1</td>\n",
       "      <td>0</td>\n",
       "    </tr>\n",
       "    <tr>\n",
       "      <th>3</th>\n",
       "      <td>11</td>\n",
       "      <td>5.653921</td>\n",
       "      <td>19.691139</td>\n",
       "      <td>1</td>\n",
       "      <td>1</td>\n",
       "      <td>0</td>\n",
       "      <td>0</td>\n",
       "      <td>2.259674</td>\n",
       "      <td>4</td>\n",
       "      <td>14.045907</td>\n",
       "      <td>...</td>\n",
       "      <td>0</td>\n",
       "      <td>0</td>\n",
       "      <td>0</td>\n",
       "      <td>1</td>\n",
       "      <td>1</td>\n",
       "      <td>0</td>\n",
       "      <td>0</td>\n",
       "      <td>0</td>\n",
       "      <td>0</td>\n",
       "      <td>0</td>\n",
       "    </tr>\n",
       "    <tr>\n",
       "      <th>4</th>\n",
       "      <td>10</td>\n",
       "      <td>6.291711</td>\n",
       "      <td>21.324865</td>\n",
       "      <td>1</td>\n",
       "      <td>1</td>\n",
       "      <td>0</td>\n",
       "      <td>0</td>\n",
       "      <td>2.440268</td>\n",
       "      <td>4</td>\n",
       "      <td>14.181278</td>\n",
       "      <td>...</td>\n",
       "      <td>0</td>\n",
       "      <td>0</td>\n",
       "      <td>0</td>\n",
       "      <td>1</td>\n",
       "      <td>0</td>\n",
       "      <td>0</td>\n",
       "      <td>0</td>\n",
       "      <td>0</td>\n",
       "      <td>1</td>\n",
       "      <td>0</td>\n",
       "    </tr>\n",
       "    <tr>\n",
       "      <th>...</th>\n",
       "      <td>...</td>\n",
       "      <td>...</td>\n",
       "      <td>...</td>\n",
       "      <td>...</td>\n",
       "      <td>...</td>\n",
       "      <td>...</td>\n",
       "      <td>...</td>\n",
       "      <td>...</td>\n",
       "      <td>...</td>\n",
       "      <td>...</td>\n",
       "      <td>...</td>\n",
       "      <td>...</td>\n",
       "      <td>...</td>\n",
       "      <td>...</td>\n",
       "      <td>...</td>\n",
       "      <td>...</td>\n",
       "      <td>...</td>\n",
       "      <td>...</td>\n",
       "      <td>...</td>\n",
       "      <td>...</td>\n",
       "      <td>...</td>\n",
       "    </tr>\n",
       "    <tr>\n",
       "      <th>1455</th>\n",
       "      <td>10</td>\n",
       "      <td>5.714669</td>\n",
       "      <td>18.960042</td>\n",
       "      <td>1</td>\n",
       "      <td>1</td>\n",
       "      <td>3</td>\n",
       "      <td>0</td>\n",
       "      <td>2.055642</td>\n",
       "      <td>4</td>\n",
       "      <td>14.179714</td>\n",
       "      <td>...</td>\n",
       "      <td>0</td>\n",
       "      <td>0</td>\n",
       "      <td>0</td>\n",
       "      <td>1</td>\n",
       "      <td>0</td>\n",
       "      <td>0</td>\n",
       "      <td>0</td>\n",
       "      <td>0</td>\n",
       "      <td>1</td>\n",
       "      <td>0</td>\n",
       "    </tr>\n",
       "    <tr>\n",
       "      <th>1456</th>\n",
       "      <td>5</td>\n",
       "      <td>6.314735</td>\n",
       "      <td>20.994554</td>\n",
       "      <td>1</td>\n",
       "      <td>1</td>\n",
       "      <td>3</td>\n",
       "      <td>0</td>\n",
       "      <td>2.055642</td>\n",
       "      <td>5</td>\n",
       "      <td>14.146717</td>\n",
       "      <td>...</td>\n",
       "      <td>0</td>\n",
       "      <td>0</td>\n",
       "      <td>0</td>\n",
       "      <td>1</td>\n",
       "      <td>0</td>\n",
       "      <td>0</td>\n",
       "      <td>0</td>\n",
       "      <td>0</td>\n",
       "      <td>1</td>\n",
       "      <td>0</td>\n",
       "    </tr>\n",
       "    <tr>\n",
       "      <th>1457</th>\n",
       "      <td>11</td>\n",
       "      <td>5.831328</td>\n",
       "      <td>19.475912</td>\n",
       "      <td>1</td>\n",
       "      <td>1</td>\n",
       "      <td>3</td>\n",
       "      <td>0</td>\n",
       "      <td>2.259674</td>\n",
       "      <td>8</td>\n",
       "      <td>14.087847</td>\n",
       "      <td>...</td>\n",
       "      <td>0</td>\n",
       "      <td>0</td>\n",
       "      <td>0</td>\n",
       "      <td>1</td>\n",
       "      <td>0</td>\n",
       "      <td>0</td>\n",
       "      <td>0</td>\n",
       "      <td>0</td>\n",
       "      <td>1</td>\n",
       "      <td>0</td>\n",
       "    </tr>\n",
       "    <tr>\n",
       "      <th>1458</th>\n",
       "      <td>5</td>\n",
       "      <td>5.887419</td>\n",
       "      <td>19.759768</td>\n",
       "      <td>1</td>\n",
       "      <td>1</td>\n",
       "      <td>3</td>\n",
       "      <td>0</td>\n",
       "      <td>1.820334</td>\n",
       "      <td>5</td>\n",
       "      <td>14.102254</td>\n",
       "      <td>...</td>\n",
       "      <td>0</td>\n",
       "      <td>0</td>\n",
       "      <td>0</td>\n",
       "      <td>1</td>\n",
       "      <td>0</td>\n",
       "      <td>0</td>\n",
       "      <td>0</td>\n",
       "      <td>0</td>\n",
       "      <td>1</td>\n",
       "      <td>0</td>\n",
       "    </tr>\n",
       "    <tr>\n",
       "      <th>1459</th>\n",
       "      <td>5</td>\n",
       "      <td>6.073289</td>\n",
       "      <td>19.848663</td>\n",
       "      <td>1</td>\n",
       "      <td>1</td>\n",
       "      <td>3</td>\n",
       "      <td>0</td>\n",
       "      <td>1.820334</td>\n",
       "      <td>5</td>\n",
       "      <td>14.126140</td>\n",
       "      <td>...</td>\n",
       "      <td>0</td>\n",
       "      <td>0</td>\n",
       "      <td>0</td>\n",
       "      <td>1</td>\n",
       "      <td>0</td>\n",
       "      <td>0</td>\n",
       "      <td>0</td>\n",
       "      <td>0</td>\n",
       "      <td>1</td>\n",
       "      <td>0</td>\n",
       "    </tr>\n",
       "  </tbody>\n",
       "</table>\n",
       "<p>1460 rows × 220 columns</p>\n",
       "</div>"
      ],
      "text/plain": [
       "      MSSubClass  LotFrontage    LotArea  Street  Alley  LotShape  LandSlope  \\\n",
       "0             10     5.802739  19.211723       1      1         3          0   \n",
       "1              5     6.197221  19.711793       1      1         3          0   \n",
       "2             10     5.887419  20.346881       1      1         0          0   \n",
       "3             11     5.653921  19.691139       1      1         0          0   \n",
       "4             10     6.291711  21.324865       1      1         0          0   \n",
       "...          ...          ...        ...     ...    ...       ...        ...   \n",
       "1455          10     5.714669  18.960042       1      1         3          0   \n",
       "1456           5     6.314735  20.994554       1      1         3          0   \n",
       "1457          11     5.831328  19.475912       1      1         3          0   \n",
       "1458           5     5.887419  19.759768       1      1         3          0   \n",
       "1459           5     6.073289  19.848663       1      1         3          0   \n",
       "\n",
       "      OverallQual  OverallCond  YearBuilt  ...  SaleType_ConLw  SaleType_New  \\\n",
       "0        2.259674            4  14.185966  ...               0             0   \n",
       "1        2.055642            7  14.143559  ...               0             0   \n",
       "2        2.259674            4  14.182841  ...               0             0   \n",
       "3        2.259674            4  14.045907  ...               0             0   \n",
       "4        2.440268            4  14.181278  ...               0             0   \n",
       "...           ...          ...        ...  ...             ...           ...   \n",
       "1455     2.055642            4  14.179714  ...               0             0   \n",
       "1456     2.055642            5  14.146717  ...               0             0   \n",
       "1457     2.259674            8  14.087847  ...               0             0   \n",
       "1458     1.820334            5  14.102254  ...               0             0   \n",
       "1459     1.820334            5  14.126140  ...               0             0   \n",
       "\n",
       "      SaleType_Oth  SaleType_WD  SaleCondition_Abnorml  SaleCondition_AdjLand  \\\n",
       "0                0            1                      0                      0   \n",
       "1                0            1                      0                      0   \n",
       "2                0            1                      0                      0   \n",
       "3                0            1                      1                      0   \n",
       "4                0            1                      0                      0   \n",
       "...            ...          ...                    ...                    ...   \n",
       "1455             0            1                      0                      0   \n",
       "1456             0            1                      0                      0   \n",
       "1457             0            1                      0                      0   \n",
       "1458             0            1                      0                      0   \n",
       "1459             0            1                      0                      0   \n",
       "\n",
       "      SaleCondition_Alloca  SaleCondition_Family  SaleCondition_Normal  \\\n",
       "0                        0                     0                     1   \n",
       "1                        0                     0                     1   \n",
       "2                        0                     0                     1   \n",
       "3                        0                     0                     0   \n",
       "4                        0                     0                     1   \n",
       "...                    ...                   ...                   ...   \n",
       "1455                     0                     0                     1   \n",
       "1456                     0                     0                     1   \n",
       "1457                     0                     0                     1   \n",
       "1458                     0                     0                     1   \n",
       "1459                     0                     0                     1   \n",
       "\n",
       "      SaleCondition_Partial  \n",
       "0                         0  \n",
       "1                         0  \n",
       "2                         0  \n",
       "3                         0  \n",
       "4                         0  \n",
       "...                     ...  \n",
       "1455                      0  \n",
       "1456                      0  \n",
       "1457                      0  \n",
       "1458                      0  \n",
       "1459                      0  \n",
       "\n",
       "[1460 rows x 220 columns]"
      ]
     },
     "execution_count": 46,
     "metadata": {},
     "output_type": "execute_result"
    }
   ],
   "source": [
    "# Partition the df_all data to df_train2 and df_test2\n",
    "df_train2 = df_all[: df_train[\"Id\"].max()]\n",
    "df_train2"
   ]
  },
  {
   "cell_type": "code",
   "execution_count": 47,
   "metadata": {},
   "outputs": [
    {
     "data": {
      "text/html": [
       "<div>\n",
       "<style scoped>\n",
       "    .dataframe tbody tr th:only-of-type {\n",
       "        vertical-align: middle;\n",
       "    }\n",
       "\n",
       "    .dataframe tbody tr th {\n",
       "        vertical-align: top;\n",
       "    }\n",
       "\n",
       "    .dataframe thead th {\n",
       "        text-align: right;\n",
       "    }\n",
       "</style>\n",
       "<table border=\"1\" class=\"dataframe\">\n",
       "  <thead>\n",
       "    <tr style=\"text-align: right;\">\n",
       "      <th></th>\n",
       "      <th>MSSubClass</th>\n",
       "      <th>LotFrontage</th>\n",
       "      <th>LotArea</th>\n",
       "      <th>Street</th>\n",
       "      <th>Alley</th>\n",
       "      <th>LotShape</th>\n",
       "      <th>LandSlope</th>\n",
       "      <th>OverallQual</th>\n",
       "      <th>OverallCond</th>\n",
       "      <th>YearBuilt</th>\n",
       "      <th>...</th>\n",
       "      <th>SaleType_ConLw</th>\n",
       "      <th>SaleType_New</th>\n",
       "      <th>SaleType_Oth</th>\n",
       "      <th>SaleType_WD</th>\n",
       "      <th>SaleCondition_Abnorml</th>\n",
       "      <th>SaleCondition_AdjLand</th>\n",
       "      <th>SaleCondition_Alloca</th>\n",
       "      <th>SaleCondition_Family</th>\n",
       "      <th>SaleCondition_Normal</th>\n",
       "      <th>SaleCondition_Partial</th>\n",
       "    </tr>\n",
       "  </thead>\n",
       "  <tbody>\n",
       "    <tr>\n",
       "      <th>0</th>\n",
       "      <td>5</td>\n",
       "      <td>6.197221</td>\n",
       "      <td>20.479022</td>\n",
       "      <td>1</td>\n",
       "      <td>1</td>\n",
       "      <td>3</td>\n",
       "      <td>0</td>\n",
       "      <td>1.820334</td>\n",
       "      <td>5</td>\n",
       "      <td>14.119786</td>\n",
       "      <td>...</td>\n",
       "      <td>0</td>\n",
       "      <td>0</td>\n",
       "      <td>0</td>\n",
       "      <td>1</td>\n",
       "      <td>0</td>\n",
       "      <td>0</td>\n",
       "      <td>0</td>\n",
       "      <td>0</td>\n",
       "      <td>1</td>\n",
       "      <td>0</td>\n",
       "    </tr>\n",
       "    <tr>\n",
       "      <th>1</th>\n",
       "      <td>5</td>\n",
       "      <td>6.221214</td>\n",
       "      <td>21.326926</td>\n",
       "      <td>1</td>\n",
       "      <td>1</td>\n",
       "      <td>0</td>\n",
       "      <td>0</td>\n",
       "      <td>2.055642</td>\n",
       "      <td>5</td>\n",
       "      <td>14.115013</td>\n",
       "      <td>...</td>\n",
       "      <td>0</td>\n",
       "      <td>0</td>\n",
       "      <td>0</td>\n",
       "      <td>1</td>\n",
       "      <td>0</td>\n",
       "      <td>0</td>\n",
       "      <td>0</td>\n",
       "      <td>0</td>\n",
       "      <td>1</td>\n",
       "      <td>0</td>\n",
       "    </tr>\n",
       "    <tr>\n",
       "      <th>2</th>\n",
       "      <td>10</td>\n",
       "      <td>6.047664</td>\n",
       "      <td>21.196602</td>\n",
       "      <td>1</td>\n",
       "      <td>1</td>\n",
       "      <td>0</td>\n",
       "      <td>0</td>\n",
       "      <td>1.820334</td>\n",
       "      <td>4</td>\n",
       "      <td>14.176584</td>\n",
       "      <td>...</td>\n",
       "      <td>0</td>\n",
       "      <td>0</td>\n",
       "      <td>0</td>\n",
       "      <td>1</td>\n",
       "      <td>0</td>\n",
       "      <td>0</td>\n",
       "      <td>0</td>\n",
       "      <td>0</td>\n",
       "      <td>1</td>\n",
       "      <td>0</td>\n",
       "    </tr>\n",
       "    <tr>\n",
       "      <th>3</th>\n",
       "      <td>10</td>\n",
       "      <td>6.148461</td>\n",
       "      <td>19.865045</td>\n",
       "      <td>1</td>\n",
       "      <td>1</td>\n",
       "      <td>0</td>\n",
       "      <td>0</td>\n",
       "      <td>2.055642</td>\n",
       "      <td>5</td>\n",
       "      <td>14.178149</td>\n",
       "      <td>...</td>\n",
       "      <td>0</td>\n",
       "      <td>0</td>\n",
       "      <td>0</td>\n",
       "      <td>1</td>\n",
       "      <td>0</td>\n",
       "      <td>0</td>\n",
       "      <td>0</td>\n",
       "      <td>0</td>\n",
       "      <td>1</td>\n",
       "      <td>0</td>\n",
       "    </tr>\n",
       "    <tr>\n",
       "      <th>4</th>\n",
       "      <td>0</td>\n",
       "      <td>5.053371</td>\n",
       "      <td>17.256538</td>\n",
       "      <td>1</td>\n",
       "      <td>1</td>\n",
       "      <td>0</td>\n",
       "      <td>0</td>\n",
       "      <td>2.440268</td>\n",
       "      <td>4</td>\n",
       "      <td>14.168748</td>\n",
       "      <td>...</td>\n",
       "      <td>0</td>\n",
       "      <td>0</td>\n",
       "      <td>0</td>\n",
       "      <td>1</td>\n",
       "      <td>0</td>\n",
       "      <td>0</td>\n",
       "      <td>0</td>\n",
       "      <td>0</td>\n",
       "      <td>1</td>\n",
       "      <td>0</td>\n",
       "    </tr>\n",
       "    <tr>\n",
       "      <th>...</th>\n",
       "      <td>...</td>\n",
       "      <td>...</td>\n",
       "      <td>...</td>\n",
       "      <td>...</td>\n",
       "      <td>...</td>\n",
       "      <td>...</td>\n",
       "      <td>...</td>\n",
       "      <td>...</td>\n",
       "      <td>...</td>\n",
       "      <td>...</td>\n",
       "      <td>...</td>\n",
       "      <td>...</td>\n",
       "      <td>...</td>\n",
       "      <td>...</td>\n",
       "      <td>...</td>\n",
       "      <td>...</td>\n",
       "      <td>...</td>\n",
       "      <td>...</td>\n",
       "      <td>...</td>\n",
       "      <td>...</td>\n",
       "      <td>...</td>\n",
       "    </tr>\n",
       "    <tr>\n",
       "      <th>1454</th>\n",
       "      <td>2</td>\n",
       "      <td>3.858807</td>\n",
       "      <td>14.079819</td>\n",
       "      <td>1</td>\n",
       "      <td>1</td>\n",
       "      <td>3</td>\n",
       "      <td>0</td>\n",
       "      <td>1.540963</td>\n",
       "      <td>6</td>\n",
       "      <td>14.134068</td>\n",
       "      <td>...</td>\n",
       "      <td>0</td>\n",
       "      <td>0</td>\n",
       "      <td>0</td>\n",
       "      <td>1</td>\n",
       "      <td>0</td>\n",
       "      <td>0</td>\n",
       "      <td>0</td>\n",
       "      <td>0</td>\n",
       "      <td>1</td>\n",
       "      <td>0</td>\n",
       "    </tr>\n",
       "    <tr>\n",
       "      <th>1455</th>\n",
       "      <td>2</td>\n",
       "      <td>3.858807</td>\n",
       "      <td>14.011676</td>\n",
       "      <td>1</td>\n",
       "      <td>1</td>\n",
       "      <td>3</td>\n",
       "      <td>0</td>\n",
       "      <td>1.540963</td>\n",
       "      <td>4</td>\n",
       "      <td>14.134068</td>\n",
       "      <td>...</td>\n",
       "      <td>0</td>\n",
       "      <td>0</td>\n",
       "      <td>0</td>\n",
       "      <td>1</td>\n",
       "      <td>1</td>\n",
       "      <td>0</td>\n",
       "      <td>0</td>\n",
       "      <td>0</td>\n",
       "      <td>0</td>\n",
       "      <td>0</td>\n",
       "    </tr>\n",
       "    <tr>\n",
       "      <th>1456</th>\n",
       "      <td>5</td>\n",
       "      <td>7.606710</td>\n",
       "      <td>22.781838</td>\n",
       "      <td>1</td>\n",
       "      <td>1</td>\n",
       "      <td>3</td>\n",
       "      <td>0</td>\n",
       "      <td>1.820334</td>\n",
       "      <td>6</td>\n",
       "      <td>14.118196</td>\n",
       "      <td>...</td>\n",
       "      <td>0</td>\n",
       "      <td>0</td>\n",
       "      <td>0</td>\n",
       "      <td>1</td>\n",
       "      <td>1</td>\n",
       "      <td>0</td>\n",
       "      <td>0</td>\n",
       "      <td>0</td>\n",
       "      <td>0</td>\n",
       "      <td>0</td>\n",
       "    </tr>\n",
       "    <tr>\n",
       "      <th>1457</th>\n",
       "      <td>14</td>\n",
       "      <td>5.714669</td>\n",
       "      <td>20.046173</td>\n",
       "      <td>1</td>\n",
       "      <td>1</td>\n",
       "      <td>3</td>\n",
       "      <td>0</td>\n",
       "      <td>1.820334</td>\n",
       "      <td>4</td>\n",
       "      <td>14.168748</td>\n",
       "      <td>...</td>\n",
       "      <td>0</td>\n",
       "      <td>0</td>\n",
       "      <td>0</td>\n",
       "      <td>1</td>\n",
       "      <td>0</td>\n",
       "      <td>0</td>\n",
       "      <td>0</td>\n",
       "      <td>0</td>\n",
       "      <td>1</td>\n",
       "      <td>0</td>\n",
       "    </tr>\n",
       "    <tr>\n",
       "      <th>1458</th>\n",
       "      <td>10</td>\n",
       "      <td>6.047664</td>\n",
       "      <td>19.722908</td>\n",
       "      <td>1</td>\n",
       "      <td>1</td>\n",
       "      <td>3</td>\n",
       "      <td>1</td>\n",
       "      <td>2.259674</td>\n",
       "      <td>4</td>\n",
       "      <td>14.170316</td>\n",
       "      <td>...</td>\n",
       "      <td>0</td>\n",
       "      <td>0</td>\n",
       "      <td>0</td>\n",
       "      <td>1</td>\n",
       "      <td>0</td>\n",
       "      <td>0</td>\n",
       "      <td>0</td>\n",
       "      <td>0</td>\n",
       "      <td>1</td>\n",
       "      <td>0</td>\n",
       "    </tr>\n",
       "  </tbody>\n",
       "</table>\n",
       "<p>1459 rows × 220 columns</p>\n",
       "</div>"
      ],
      "text/plain": [
       "      MSSubClass  LotFrontage    LotArea  Street  Alley  LotShape  LandSlope  \\\n",
       "0              5     6.197221  20.479022       1      1         3          0   \n",
       "1              5     6.221214  21.326926       1      1         0          0   \n",
       "2             10     6.047664  21.196602       1      1         0          0   \n",
       "3             10     6.148461  19.865045       1      1         0          0   \n",
       "4              0     5.053371  17.256538       1      1         0          0   \n",
       "...          ...          ...        ...     ...    ...       ...        ...   \n",
       "1454           2     3.858807  14.079819       1      1         3          0   \n",
       "1455           2     3.858807  14.011676       1      1         3          0   \n",
       "1456           5     7.606710  22.781838       1      1         3          0   \n",
       "1457          14     5.714669  20.046173       1      1         3          0   \n",
       "1458          10     6.047664  19.722908       1      1         3          1   \n",
       "\n",
       "      OverallQual  OverallCond  YearBuilt  ...  SaleType_ConLw  SaleType_New  \\\n",
       "0        1.820334            5  14.119786  ...               0             0   \n",
       "1        2.055642            5  14.115013  ...               0             0   \n",
       "2        1.820334            4  14.176584  ...               0             0   \n",
       "3        2.055642            5  14.178149  ...               0             0   \n",
       "4        2.440268            4  14.168748  ...               0             0   \n",
       "...           ...          ...        ...  ...             ...           ...   \n",
       "1454     1.540963            6  14.134068  ...               0             0   \n",
       "1455     1.540963            4  14.134068  ...               0             0   \n",
       "1456     1.820334            6  14.118196  ...               0             0   \n",
       "1457     1.820334            4  14.168748  ...               0             0   \n",
       "1458     2.259674            4  14.170316  ...               0             0   \n",
       "\n",
       "      SaleType_Oth  SaleType_WD  SaleCondition_Abnorml  SaleCondition_AdjLand  \\\n",
       "0                0            1                      0                      0   \n",
       "1                0            1                      0                      0   \n",
       "2                0            1                      0                      0   \n",
       "3                0            1                      0                      0   \n",
       "4                0            1                      0                      0   \n",
       "...            ...          ...                    ...                    ...   \n",
       "1454             0            1                      0                      0   \n",
       "1455             0            1                      1                      0   \n",
       "1456             0            1                      1                      0   \n",
       "1457             0            1                      0                      0   \n",
       "1458             0            1                      0                      0   \n",
       "\n",
       "      SaleCondition_Alloca  SaleCondition_Family  SaleCondition_Normal  \\\n",
       "0                        0                     0                     1   \n",
       "1                        0                     0                     1   \n",
       "2                        0                     0                     1   \n",
       "3                        0                     0                     1   \n",
       "4                        0                     0                     1   \n",
       "...                    ...                   ...                   ...   \n",
       "1454                     0                     0                     1   \n",
       "1455                     0                     0                     0   \n",
       "1456                     0                     0                     0   \n",
       "1457                     0                     0                     1   \n",
       "1458                     0                     0                     1   \n",
       "\n",
       "      SaleCondition_Partial  \n",
       "0                         0  \n",
       "1                         0  \n",
       "2                         0  \n",
       "3                         0  \n",
       "4                         0  \n",
       "...                     ...  \n",
       "1454                      0  \n",
       "1455                      0  \n",
       "1456                      0  \n",
       "1457                      0  \n",
       "1458                      0  \n",
       "\n",
       "[1459 rows x 220 columns]"
      ]
     },
     "execution_count": 47,
     "metadata": {},
     "output_type": "execute_result"
    }
   ],
   "source": [
    "df_test2 = df_all[df_train[\"Id\"].max():]\n",
    "df_test2"
   ]
  },
  {
   "cell_type": "markdown",
   "metadata": {},
   "source": [
    "# Modelling"
   ]
  },
  {
   "cell_type": "code",
   "execution_count": 48,
   "metadata": {},
   "outputs": [],
   "source": [
    "# Import modelling libraries\n",
    "from sklearn.ensemble import RandomForestRegressor, GradientBoostingRegressor, AdaBoostRegressor, BaggingRegressor\n",
    "from sklearn.kernel_ridge import KernelRidge\n",
    "from sklearn.linear_model import Ridge, RidgeCV, Lasso, LassoCV, BayesianRidge, LassoLarsIC\n",
    "from sklearn.linear_model import ElasticNet, ElasticNetCV\n",
    "from sklearn.linear_model import LinearRegression\n",
    "from sklearn.svm import SVR\n",
    "from sklearn.neighbors import KNeighborsRegressor\n",
    "from mlxtend.regressor import StackingCVRegressor\n",
    "from sklearn.tree import DecisionTreeRegressor\n",
    "import lightgbm as lgb\n",
    "from lightgbm import LGBMRegressor\n",
    "from xgboost import XGBRegressor\n",
    "\n",
    "from sklearn.model_selection import GridSearchCV\n",
    "from sklearn.model_selection import KFold, cross_val_score\n",
    "from sklearn.metrics import mean_squared_error\n",
    "from sklearn.preprocessing import OneHotEncoder\n",
    "from sklearn.preprocessing import LabelEncoder\n",
    "from sklearn.pipeline import make_pipeline\n",
    "from sklearn.preprocessing import scale\n",
    "from sklearn.preprocessing import StandardScaler\n",
    "from sklearn.preprocessing import RobustScaler\n",
    "from sklearn.decomposition import PCA\n",
    "from sklearn import tree"
   ]
  },
  {
   "cell_type": "code",
   "execution_count": 49,
   "metadata": {},
   "outputs": [],
   "source": [
    "# Setup cross validation folds\n",
    "kf = KFold(n_splits=10, random_state=42, shuffle=True)"
   ]
  },
  {
   "cell_type": "code",
   "execution_count": 50,
   "metadata": {},
   "outputs": [],
   "source": [
    "# Define error metrics\n",
    "def cv_rmse(model):\n",
    "    rmse = np.sqrt(-cross_val_score(model, df_train2, df_train['SalePrice'], scoring=\"neg_mean_squared_error\", cv=kf))\n",
    "    return (rmse)\n",
    "\n",
    "scores = {}"
   ]
  },
  {
   "cell_type": "markdown",
   "metadata": {},
   "source": [
    "# Nearest Neighbors"
   ]
  },
  {
   "cell_type": "code",
   "execution_count": 51,
   "metadata": {},
   "outputs": [
    {
     "name": "stdout",
     "output_type": "stream",
     "text": [
      "knn: 0.2613 (0.0195)\n"
     ]
    }
   ],
   "source": [
    "# Nearest Neighbors Regressor\n",
    "knn = KNeighborsRegressor(n_neighbors=3)\n",
    "score = cv_rmse(knn)\n",
    "print(\"knn: {:.4f} ({:.4f})\".format(score.mean(), score.std()))"
   ]
  },
  {
   "cell_type": "code",
   "execution_count": 52,
   "metadata": {},
   "outputs": [],
   "source": [
    "# Tune the parameter of n_neighbors, search for n_neighbors that have lowest cv score\n",
    "mean_score = []\n",
    "for i in range(1,20):\n",
    "    knn = KNeighborsRegressor(n_neighbors=i)\n",
    "    score = cv_rmse(knn)\n",
    "    mean_score.append(score.mean())"
   ]
  },
  {
   "cell_type": "code",
   "execution_count": 53,
   "metadata": {},
   "outputs": [
    {
     "data": {
      "text/plain": [
       "[<matplotlib.lines.Line2D at 0x28153552310>]"
      ]
     },
     "execution_count": 53,
     "metadata": {},
     "output_type": "execute_result"
    },
    {
     "data": {
      "image/png": "[encoded data removed]",
      "text/plain": [
       "<Figure size 432x288 with 1 Axes>"
      ]
     },
     "metadata": {
      "needs_background": "light"
     },
     "output_type": "display_data"
    }
   ],
   "source": [
    "# Plot the mean_score to choose the best n_neighbors parameter\n",
    "plt.plot(list(range(1,20)), mean_score)"
   ]
  },
  {
   "cell_type": "code",
   "execution_count": 54,
   "metadata": {},
   "outputs": [
    {
     "name": "stdout",
     "output_type": "stream",
     "text": [
      "knn: 0.2564 (0.0214)\n"
     ]
    }
   ],
   "source": [
    "# The n_neighbors = 10 gives the lowest mean cv score\n",
    "knn = KNeighborsRegressor(n_neighbors=10)\n",
    "score = cv_rmse(knn)\n",
    "print(\"knn: {:.4f} ({:.4f})\".format(score.mean(), score.std()))\n",
    "scores['knn'] = (score.mean(), score.std())"
   ]
  },
  {
   "cell_type": "markdown",
   "metadata": {},
   "source": [
    "# Linear Regression (Without Panelty)"
   ]
  },
  {
   "cell_type": "code",
   "execution_count": 55,
   "metadata": {},
   "outputs": [
    {
     "name": "stdout",
     "output_type": "stream",
     "text": [
      "ols: 0.1379 (0.0277)\n"
     ]
    }
   ],
   "source": [
    "# Linear Regression without panelty\n",
    "ols = LinearRegression()\n",
    "score = cv_rmse(ols)\n",
    "print(\"ols: {:.4f} ({:.4f})\".format(score.mean(), score.std()))\n",
    "scores['ols'] = (score.mean(), score.std())"
   ]
  },
  {
   "cell_type": "markdown",
   "metadata": {},
   "source": [
    "# Ridge Regression"
   ]
  },
  {
   "cell_type": "code",
   "execution_count": 56,
   "metadata": {},
   "outputs": [],
   "source": [
    "# Ridge Regression with a list of alpha\n",
    "ridge_alphas = [1e-15, 1e-10, 1e-8, 9e-4, 7e-4, 5e-4, 3e-4, 1e-4, 1e-3, 5e-2, 1e-2, 0.1, 0.3, 1, 3, 5, 10, 15, 18, 20, 30, 50, 75, 100]\n",
    "ridge = make_pipeline(RobustScaler(), RidgeCV(alphas=ridge_alphas, cv=kf))"
   ]
  },
  {
   "cell_type": "code",
   "execution_count": 57,
   "metadata": {},
   "outputs": [
    {
     "name": "stdout",
     "output_type": "stream",
     "text": [
      "ridge: 0.1283 (0.0242)\n"
     ]
    }
   ],
   "source": [
    "# Find the mean cv_rmse score with the best alpha\n",
    "score = cv_rmse(ridge)\n",
    "print(\"ridge: {:.4f} ({:.4f})\".format(score.mean(), score.std()))\n",
    "scores['ridge'] = (score.mean(), score.std())"
   ]
  },
  {
   "cell_type": "markdown",
   "metadata": {},
   "source": [
    "# Lasso"
   ]
  },
  {
   "cell_type": "code",
   "execution_count": 58,
   "metadata": {},
   "outputs": [],
   "source": [
    "# Lasso Regression with a list of alpha\n",
    "lasso_alphas = [1e-15, 1e-10, 1e-8, 9e-4, 7e-4, 5e-4, 3e-4, 1e-4, 1e-3, 5e-2, 1e-2, 0.1, 0.3, 1, 3, 5, 10, 15, 18, 20, 30, 50, 75, 100]\n",
    "lasso = make_pipeline(RobustScaler(), LassoCV(alphas=ridge_alphas, cv=kf))"
   ]
  },
  {
   "cell_type": "code",
   "execution_count": 59,
   "metadata": {},
   "outputs": [
    {
     "name": "stdout",
     "output_type": "stream",
     "text": [
      "lasso: 0.1253 (0.0244)\n"
     ]
    }
   ],
   "source": [
    "# Find the mean cv_rmse score with the best alpha\n",
    "score = cv_rmse(lasso)\n",
    "print(\"lasso: {:.4f} ({:.4f})\".format(score.mean(), score.std()))\n",
    "scores['lasso'] = (score.mean(), score.std())"
   ]
  },
  {
   "cell_type": "markdown",
   "metadata": {},
   "source": [
    "# Decision Tree"
   ]
  },
  {
   "cell_type": "code",
   "execution_count": 60,
   "metadata": {},
   "outputs": [
    {
     "name": "stdout",
     "output_type": "stream",
     "text": [
      "decision_tree: 0.1976 (0.0212)\n"
     ]
    }
   ],
   "source": [
    "# Decision Tree Regressor\n",
    "dtree = DecisionTreeRegressor(max_depth=5)\n",
    "score = cv_rmse(dtree)\n",
    "print(\"decision_tree: {:.4f} ({:.4f})\".format(score.mean(), score.std()))"
   ]
  },
  {
   "cell_type": "code",
   "execution_count": 61,
   "metadata": {},
   "outputs": [],
   "source": [
    "# Tune the parameter of max_depth, search for max_depth that have lowest cv score\n",
    "mean_score = []\n",
    "for i in range(1,10):\n",
    "    dtree = DecisionTreeRegressor(max_depth=i)\n",
    "    score = cv_rmse(dtree)\n",
    "    mean_score.append(score.mean())"
   ]
  },
  {
   "cell_type": "code",
   "execution_count": 62,
   "metadata": {},
   "outputs": [
    {
     "data": {
      "text/plain": [
       "[<matplotlib.lines.Line2D at 0x28153a2a1c0>]"
      ]
     },
     "execution_count": 62,
     "metadata": {},
     "output_type": "execute_result"
    },
    {
     "data": {
      "image/png": "[encoded data removed]",
      "text/plain": [
       "<Figure size 432x288 with 1 Axes>"
      ]
     },
     "metadata": {
      "needs_background": "light"
     },
     "output_type": "display_data"
    }
   ],
   "source": [
    "# Plot the mean_score to choose the best n_neighbors parameter\n",
    "plt.plot(list(range(1,10)), mean_score)"
   ]
  },
  {
   "cell_type": "code",
   "execution_count": 63,
   "metadata": {},
   "outputs": [
    {
     "name": "stdout",
     "output_type": "stream",
     "text": [
      "decision_tree: 0.2029 (0.0241)\n"
     ]
    }
   ],
   "source": [
    "# The max_depth = 8 gives the lowest mean cv score\n",
    "dtree = DecisionTreeRegressor(max_depth = 8)\n",
    "score = cv_rmse(dtree)\n",
    "print(\"decision_tree: {:.4f} ({:.4f})\".format(score.mean(), score.std()))\n",
    "scores['decision_tree'] = (score.mean(), score.std())"
   ]
  },
  {
   "cell_type": "code",
   "execution_count": 64,
   "metadata": {},
   "outputs": [
    {
     "name": "stdout",
     "output_type": "stream",
     "text": [
      "|--- feature_7 <= 2.16\n",
      "|   |--- feature_28 <= 13.05\n",
      "|   |   |--- feature_22 <= 11.50\n",
      "|   |   |   |--- feature_24 <= 0.50\n",
      "|   |   |   |   |--- feature_58 <= 0.50\n",
      "|   |   |   |   |   |--- feature_28 <= 12.40\n",
      "|   |   |   |   |   |   |--- feature_42 <= -3.33\n",
      "|   |   |   |   |   |   |   |--- feature_2 <= 18.03\n",
      "|   |   |   |   |   |   |   |   |--- value: [10.80]\n",
      "|   |   |   |   |   |   |   |--- feature_2 >  18.03\n",
      "|   |   |   |   |   |   |   |   |--- value: [11.28]\n",
      "|   |   |   |   |   |   |--- feature_42 >  -3.33\n",
      "|   |   |   |   |   |   |   |--- feature_33 <= 0.37\n",
      "|   |   |   |   |   |   |   |   |--- value: [11.07]\n",
      "|   |   |   |   |   |   |   |--- feature_33 >  0.37\n",
      "|   |   |   |   |   |   |   |   |--- value: [11.35]\n",
      "|   |   |   |   |   |--- feature_28 >  12.40\n",
      "|   |   |   |   |   |   |--- feature_178 <= 0.50\n",
      "|   |   |   |   |   |   |   |--- feature_26 <= 10.18\n",
      "|   |   |   |   |   |   |   |   |--- value: [11.78]\n",
      "|   |   |   |   |   |   |   |--- feature_26 >  10.18\n",
      "|   |   |   |   |   |   |   |   |--- value: [11.56]\n",
      "|   |   |   |   |   |   |--- feature_178 >  0.50\n",
      "|   |   |   |   |   |   |   |--- feature_26 <= 2.03\n",
      "|   |   |   |   |   |   |   |   |--- value: [11.31]\n",
      "|   |   |   |   |   |   |   |--- feature_26 >  2.03\n",
      "|   |   |   |   |   |   |   |   |--- value: [11.26]\n",
      "|   |   |   |   |--- feature_58 >  0.50\n",
      "|   |   |   |   |   |--- feature_12 <= 2.00\n",
      "|   |   |   |   |   |   |--- value: [10.93]\n",
      "|   |   |   |   |   |--- feature_12 >  2.00\n",
      "|   |   |   |   |   |   |--- feature_17 <= 5.50\n",
      "|   |   |   |   |   |   |   |--- feature_28 <= 10.69\n",
      "|   |   |   |   |   |   |   |   |--- value: [10.47]\n",
      "|   |   |   |   |   |   |   |--- feature_28 >  10.69\n",
      "|   |   |   |   |   |   |   |   |--- value: [10.46]\n",
      "|   |   |   |   |   |   |--- feature_17 >  5.50\n",
      "|   |   |   |   |   |   |   |--- value: [10.60]\n",
      "|   |   |   |--- feature_24 >  0.50\n",
      "|   |   |   |   |--- feature_28 <= 12.48\n",
      "|   |   |   |   |   |--- feature_7 <= 1.68\n",
      "|   |   |   |   |   |   |--- feature_18 <= 10.71\n",
      "|   |   |   |   |   |   |   |--- feature_37 <= 3.50\n",
      "|   |   |   |   |   |   |   |   |--- value: [10.86]\n",
      "|   |   |   |   |   |   |   |--- feature_37 >  3.50\n",
      "|   |   |   |   |   |   |   |   |--- value: [11.37]\n",
      "|   |   |   |   |   |   |--- feature_18 >  10.71\n",
      "|   |   |   |   |   |   |   |--- value: [11.88]\n",
      "|   |   |   |   |   |--- feature_7 >  1.68\n",
      "|   |   |   |   |   |   |--- feature_16 <= 2.50\n",
      "|   |   |   |   |   |   |   |--- feature_56 <= 9.50\n",
      "|   |   |   |   |   |   |   |   |--- value: [11.79]\n",
      "|   |   |   |   |   |   |   |--- feature_56 >  9.50\n",
      "|   |   |   |   |   |   |   |   |--- value: [11.43]\n",
      "|   |   |   |   |   |   |--- feature_16 >  2.50\n",
      "|   |   |   |   |   |   |   |--- feature_99 <= 0.50\n",
      "|   |   |   |   |   |   |   |   |--- value: [11.31]\n",
      "|   |   |   |   |   |   |   |--- feature_99 >  0.50\n",
      "|   |   |   |   |   |   |   |   |--- value: [11.54]\n",
      "|   |   |   |   |--- feature_28 >  12.48\n",
      "|   |   |   |   |   |--- feature_8 <= 2.50\n",
      "|   |   |   |   |   |   |--- feature_98 <= 0.50\n",
      "|   |   |   |   |   |   |   |--- value: [11.25]\n",
      "|   |   |   |   |   |   |--- feature_98 >  0.50\n",
      "|   |   |   |   |   |   |   |--- value: [11.30]\n",
      "|   |   |   |   |   |--- feature_8 >  2.50\n",
      "|   |   |   |   |   |   |--- feature_23 <= 1.00\n",
      "|   |   |   |   |   |   |   |--- feature_57 <= 2.50\n",
      "|   |   |   |   |   |   |   |   |--- value: [11.80]\n",
      "|   |   |   |   |   |   |   |--- feature_57 >  2.50\n",
      "|   |   |   |   |   |   |   |   |--- value: [11.98]\n",
      "|   |   |   |   |   |   |--- feature_23 >  1.00\n",
      "|   |   |   |   |   |   |   |--- feature_1 <= 6.19\n",
      "|   |   |   |   |   |   |   |   |--- value: [11.66]\n",
      "|   |   |   |   |   |   |   |--- feature_1 >  6.19\n",
      "|   |   |   |   |   |   |   |   |--- value: [11.87]\n",
      "|   |   |--- feature_22 >  11.50\n",
      "|   |   |   |--- feature_9 <= 14.10\n",
      "|   |   |   |   |--- feature_8 <= 2.50\n",
      "|   |   |   |   |   |--- feature_44 <= 4.50\n",
      "|   |   |   |   |   |   |--- value: [11.11]\n",
      "|   |   |   |   |   |--- feature_44 >  4.50\n",
      "|   |   |   |   |   |   |--- value: [10.98]\n",
      "|   |   |   |   |--- feature_8 >  2.50\n",
      "|   |   |   |   |   |--- feature_208 <= 0.50\n",
      "|   |   |   |   |   |   |--- feature_13 <= 3.00\n",
      "|   |   |   |   |   |   |   |--- feature_5 <= 1.50\n",
      "|   |   |   |   |   |   |   |   |--- value: [11.94]\n",
      "|   |   |   |   |   |   |   |--- feature_5 >  1.50\n",
      "|   |   |   |   |   |   |   |   |--- value: [11.70]\n",
      "|   |   |   |   |   |   |--- feature_13 >  3.00\n",
      "|   |   |   |   |   |   |   |--- feature_121 <= 0.50\n",
      "|   |   |   |   |   |   |   |   |--- value: [11.65]\n",
      "|   |   |   |   |   |   |   |--- feature_121 >  0.50\n",
      "|   |   |   |   |   |   |   |   |--- value: [11.55]\n",
      "|   |   |   |   |   |--- feature_208 >  0.50\n",
      "|   |   |   |   |   |   |--- feature_48 <= 5.19\n",
      "|   |   |   |   |   |   |   |--- value: [11.30]\n",
      "|   |   |   |   |   |   |--- feature_48 >  5.19\n",
      "|   |   |   |   |   |   |   |--- value: [11.29]\n",
      "|   |   |   |--- feature_9 >  14.10\n",
      "|   |   |   |   |--- feature_25 <= 12.31\n",
      "|   |   |   |   |   |--- feature_21 <= 11.09\n",
      "|   |   |   |   |   |   |--- feature_7 <= 1.68\n",
      "|   |   |   |   |   |   |   |--- feature_8 <= 3.50\n",
      "|   |   |   |   |   |   |   |   |--- value: [11.48]\n",
      "|   |   |   |   |   |   |   |--- feature_8 >  3.50\n",
      "|   |   |   |   |   |   |   |   |--- value: [11.66]\n",
      "|   |   |   |   |   |   |--- feature_7 >  1.68\n",
      "|   |   |   |   |   |   |   |--- feature_42 <= 0.37\n",
      "|   |   |   |   |   |   |   |   |--- value: [11.75]\n",
      "|   |   |   |   |   |   |   |--- feature_42 >  0.37\n",
      "|   |   |   |   |   |   |   |   |--- value: [11.85]\n",
      "|   |   |   |   |   |--- feature_21 >  11.09\n",
      "|   |   |   |   |   |   |--- feature_43 <= 8.79\n",
      "|   |   |   |   |   |   |   |--- feature_8 <= 3.00\n",
      "|   |   |   |   |   |   |   |   |--- value: [11.29]\n",
      "|   |   |   |   |   |   |   |--- feature_8 >  3.00\n",
      "|   |   |   |   |   |   |   |   |--- value: [11.50]\n",
      "|   |   |   |   |   |   |--- feature_43 >  8.79\n",
      "|   |   |   |   |   |   |   |--- feature_17 <= 4.00\n",
      "|   |   |   |   |   |   |   |   |--- value: [11.78]\n",
      "|   |   |   |   |   |   |   |--- feature_17 >  4.00\n",
      "|   |   |   |   |   |   |   |   |--- value: [11.63]\n",
      "|   |   |   |   |--- feature_25 >  12.31\n",
      "|   |   |   |   |   |--- feature_8 <= 2.50\n",
      "|   |   |   |   |   |   |--- feature_57 <= 1.50\n",
      "|   |   |   |   |   |   |   |--- value: [11.50]\n",
      "|   |   |   |   |   |   |--- feature_57 >  1.50\n",
      "|   |   |   |   |   |   |   |--- value: [11.00]\n",
      "|   |   |   |   |   |--- feature_8 >  2.50\n",
      "|   |   |   |   |   |   |--- feature_22 <= 12.64\n",
      "|   |   |   |   |   |   |   |--- feature_40 <= 14.12\n",
      "|   |   |   |   |   |   |   |   |--- value: [11.83]\n",
      "|   |   |   |   |   |   |   |--- feature_40 >  14.12\n",
      "|   |   |   |   |   |   |   |   |--- value: [11.92]\n",
      "|   |   |   |   |   |   |--- feature_22 >  12.64\n",
      "|   |   |   |   |   |   |   |--- feature_14 <= 3.00\n",
      "|   |   |   |   |   |   |   |   |--- value: [12.08]\n",
      "|   |   |   |   |   |   |   |--- feature_14 >  3.00\n",
      "|   |   |   |   |   |   |   |   |--- value: [11.94]\n",
      "|   |--- feature_28 >  13.05\n",
      "|   |   |--- feature_42 <= 0.37\n",
      "|   |   |   |--- feature_18 <= 7.36\n",
      "|   |   |   |   |--- feature_8 <= 3.50\n",
      "|   |   |   |   |   |--- feature_0 <= 10.00\n",
      "|   |   |   |   |   |   |--- feature_153 <= 0.50\n",
      "|   |   |   |   |   |   |   |--- feature_1 <= 5.53\n",
      "|   |   |   |   |   |   |   |   |--- value: [11.45]\n",
      "|   |   |   |   |   |   |   |--- feature_1 >  5.53\n",
      "|   |   |   |   |   |   |   |   |--- value: [11.31]\n",
      "|   |   |   |   |   |   |--- feature_153 >  0.50\n",
      "|   |   |   |   |   |   |   |--- feature_69 <= 0.50\n",
      "|   |   |   |   |   |   |   |   |--- value: [11.64]\n",
      "|   |   |   |   |   |   |   |--- feature_69 >  0.50\n",
      "|   |   |   |   |   |   |   |   |--- value: [11.56]\n",
      "|   |   |   |   |   |--- feature_0 >  10.00\n",
      "|   |   |   |   |   |   |--- feature_97 <= 0.50\n",
      "|   |   |   |   |   |   |   |--- feature_180 <= 0.50\n",
      "|   |   |   |   |   |   |   |   |--- value: [11.70]\n",
      "|   |   |   |   |   |   |   |--- feature_180 >  0.50\n",
      "|   |   |   |   |   |   |   |   |--- value: [11.59]\n",
      "|   |   |   |   |   |   |--- feature_97 >  0.50\n",
      "|   |   |   |   |   |   |   |--- value: [11.86]\n",
      "|   |   |   |   |--- feature_8 >  3.50\n",
      "|   |   |   |   |   |--- feature_97 <= 0.50\n",
      "|   |   |   |   |   |   |--- feature_2 <= 17.95\n",
      "|   |   |   |   |   |   |   |--- feature_192 <= 0.50\n",
      "|   |   |   |   |   |   |   |   |--- value: [11.79]\n",
      "|   |   |   |   |   |   |   |--- feature_192 >  0.50\n",
      "|   |   |   |   |   |   |   |   |--- value: [11.59]\n",
      "|   |   |   |   |   |   |--- feature_2 >  17.95\n",
      "|   |   |   |   |   |   |   |--- feature_157 <= 0.50\n",
      "|   |   |   |   |   |   |   |   |--- value: [11.85]\n",
      "|   |   |   |   |   |   |   |--- feature_157 >  0.50\n",
      "|   |   |   |   |   |   |   |   |--- value: [11.51]\n",
      "|   |   |   |   |   |--- feature_97 >  0.50\n",
      "|   |   |   |   |   |   |--- feature_28 <= 13.27\n",
      "|   |   |   |   |   |   |   |--- feature_26 <= 10.01\n",
      "|   |   |   |   |   |   |   |   |--- value: [11.40]\n",
      "|   |   |   |   |   |   |   |--- feature_26 >  10.01\n",
      "|   |   |   |   |   |   |   |   |--- value: [11.49]\n",
      "|   |   |   |   |   |   |--- feature_28 >  13.27\n",
      "|   |   |   |   |   |   |   |--- feature_15 <= 2.00\n",
      "|   |   |   |   |   |   |   |   |--- value: [11.73]\n",
      "|   |   |   |   |   |   |   |--- feature_15 >  2.00\n",
      "|   |   |   |   |   |   |   |   |--- value: [11.62]\n",
      "|   |   |   |--- feature_18 >  7.36\n",
      "|   |   |   |   |--- feature_26 <= 11.74\n",
      "|   |   |   |   |   |--- feature_22 <= 13.23\n",
      "|   |   |   |   |   |   |--- feature_78 <= 0.50\n",
      "|   |   |   |   |   |   |   |--- feature_14 <= 3.00\n",
      "|   |   |   |   |   |   |   |   |--- value: [11.98]\n",
      "|   |   |   |   |   |   |   |--- feature_14 >  3.00\n",
      "|   |   |   |   |   |   |   |   |--- value: [11.87]\n",
      "|   |   |   |   |   |   |--- feature_78 >  0.50\n",
      "|   |   |   |   |   |   |   |--- feature_40 <= 14.09\n",
      "|   |   |   |   |   |   |   |   |--- value: [12.15]\n",
      "|   |   |   |   |   |   |   |--- feature_40 >  14.09\n",
      "|   |   |   |   |   |   |   |   |--- value: [12.09]\n",
      "|   |   |   |   |   |--- feature_22 >  13.23\n",
      "|   |   |   |   |   |   |--- feature_57 <= 1.50\n",
      "|   |   |   |   |   |   |   |--- value: [12.24]\n",
      "|   |   |   |   |   |   |--- feature_57 >  1.50\n",
      "|   |   |   |   |   |   |   |--- value: [12.15]\n",
      "|   |   |   |   |--- feature_26 >  11.74\n",
      "|   |   |   |   |   |--- feature_35 <= 2.50\n",
      "|   |   |   |   |   |   |--- feature_26 <= 11.91\n",
      "|   |   |   |   |   |   |   |--- feature_2 <= 18.77\n",
      "|   |   |   |   |   |   |   |   |--- value: [12.47]\n",
      "|   |   |   |   |   |   |   |--- feature_2 >  18.77\n",
      "|   |   |   |   |   |   |   |   |--- value: [12.32]\n",
      "|   |   |   |   |   |   |--- feature_26 >  11.91\n",
      "|   |   |   |   |   |   |   |--- feature_63 <= 0.50\n",
      "|   |   |   |   |   |   |   |   |--- value: [12.17]\n",
      "|   |   |   |   |   |   |   |--- feature_63 >  0.50\n",
      "|   |   |   |   |   |   |   |   |--- value: [12.21]\n",
      "|   |   |   |   |   |--- feature_35 >  2.50\n",
      "|   |   |   |   |   |   |--- feature_194 <= 0.50\n",
      "|   |   |   |   |   |   |   |--- value: [11.89]\n",
      "|   |   |   |   |   |   |--- feature_194 >  0.50\n",
      "|   |   |   |   |   |   |   |--- value: [12.04]\n",
      "|   |   |--- feature_42 >  0.37\n",
      "|   |   |   |--- feature_34 <= 0.37\n",
      "|   |   |   |   |--- feature_28 <= 13.87\n",
      "|   |   |   |   |   |--- feature_18 <= 10.81\n",
      "|   |   |   |   |   |   |--- feature_9 <= 14.15\n",
      "|   |   |   |   |   |   |   |--- feature_10 <= 14.19\n",
      "|   |   |   |   |   |   |   |   |--- value: [11.97]\n",
      "|   |   |   |   |   |   |   |--- feature_10 >  14.19\n",
      "|   |   |   |   |   |   |   |   |--- value: [11.64]\n",
      "|   |   |   |   |   |   |--- feature_9 >  14.15\n",
      "|   |   |   |   |   |   |   |--- feature_62 <= 0.50\n",
      "|   |   |   |   |   |   |   |   |--- value: [12.09]\n",
      "|   |   |   |   |   |   |   |--- feature_62 >  0.50\n",
      "|   |   |   |   |   |   |   |   |--- value: [11.85]\n",
      "|   |   |   |   |   |--- feature_18 >  10.81\n",
      "|   |   |   |   |   |   |--- feature_35 <= 2.50\n",
      "|   |   |   |   |   |   |   |--- feature_10 <= 14.17\n",
      "|   |   |   |   |   |   |   |   |--- value: [12.12]\n",
      "|   |   |   |   |   |   |   |--- feature_10 >  14.17\n",
      "|   |   |   |   |   |   |   |   |--- value: [12.28]\n",
      "|   |   |   |   |   |   |--- feature_35 >  2.50\n",
      "|   |   |   |   |   |   |   |--- feature_28 <= 13.32\n",
      "|   |   |   |   |   |   |   |   |--- value: [11.98]\n",
      "|   |   |   |   |   |   |   |--- feature_28 >  13.32\n",
      "|   |   |   |   |   |   |   |   |--- value: [12.13]\n",
      "|   |   |   |   |--- feature_28 >  13.87\n",
      "|   |   |   |   |   |--- feature_8 <= 5.50\n",
      "|   |   |   |   |   |   |--- feature_9 <= 14.14\n",
      "|   |   |   |   |   |   |   |--- feature_78 <= 0.50\n",
      "|   |   |   |   |   |   |   |   |--- value: [12.00]\n",
      "|   |   |   |   |   |   |   |--- feature_78 >  0.50\n",
      "|   |   |   |   |   |   |   |   |--- value: [12.27]\n",
      "|   |   |   |   |   |   |--- feature_9 >  14.14\n",
      "|   |   |   |   |   |   |   |--- feature_21 <= 10.91\n",
      "|   |   |   |   |   |   |   |   |--- value: [12.31]\n",
      "|   |   |   |   |   |   |   |--- feature_21 >  10.91\n",
      "|   |   |   |   |   |   |   |   |--- value: [12.19]\n",
      "|   |   |   |   |   |--- feature_8 >  5.50\n",
      "|   |   |   |   |   |   |--- feature_25 <= 12.53\n",
      "|   |   |   |   |   |   |   |--- feature_0 <= 9.50\n",
      "|   |   |   |   |   |   |   |   |--- value: [12.27]\n",
      "|   |   |   |   |   |   |   |--- feature_0 >  9.50\n",
      "|   |   |   |   |   |   |   |   |--- value: [12.14]\n",
      "|   |   |   |   |   |   |--- feature_25 >  12.53\n",
      "|   |   |   |   |   |   |   |--- feature_164 <= 0.50\n",
      "|   |   |   |   |   |   |   |   |--- value: [12.43]\n",
      "|   |   |   |   |   |   |   |--- feature_164 >  0.50\n",
      "|   |   |   |   |   |   |   |   |--- value: [12.16]\n",
      "|   |   |   |--- feature_34 >  0.37\n",
      "|   |   |   |   |--- feature_40 <= 14.10\n",
      "|   |   |   |   |   |--- feature_58 <= 0.50\n",
      "|   |   |   |   |   |   |--- feature_0 <= 11.50\n",
      "|   |   |   |   |   |   |   |--- feature_218 <= 0.50\n",
      "|   |   |   |   |   |   |   |   |--- value: [11.46]\n",
      "|   |   |   |   |   |   |   |--- feature_218 >  0.50\n",
      "|   |   |   |   |   |   |   |   |--- value: [11.39]\n",
      "|   |   |   |   |   |   |--- feature_0 >  11.50\n",
      "|   |   |   |   |   |   |   |--- value: [11.57]\n",
      "|   |   |   |   |   |--- feature_58 >  0.50\n",
      "|   |   |   |   |   |   |--- value: [11.80]\n",
      "|   |   |   |   |--- feature_40 >  14.10\n",
      "|   |   |   |   |   |--- feature_28 <= 14.84\n",
      "|   |   |   |   |   |   |--- feature_57 <= 2.50\n",
      "|   |   |   |   |   |   |   |--- feature_18 <= 13.23\n",
      "|   |   |   |   |   |   |   |   |--- value: [11.88]\n",
      "|   |   |   |   |   |   |   |--- feature_18 >  13.23\n",
      "|   |   |   |   |   |   |   |   |--- value: [12.14]\n",
      "|   |   |   |   |   |   |--- feature_57 >  2.50\n",
      "|   |   |   |   |   |   |   |--- feature_98 <= 0.50\n",
      "|   |   |   |   |   |   |   |   |--- value: [11.69]\n",
      "|   |   |   |   |   |   |   |--- feature_98 >  0.50\n",
      "|   |   |   |   |   |   |   |   |--- value: [11.89]\n",
      "|   |   |   |   |   |--- feature_28 >  14.84\n",
      "|   |   |   |   |   |   |--- feature_29 <= -3.33\n",
      "|   |   |   |   |   |   |   |--- value: [12.15]\n",
      "|   |   |   |   |   |   |--- feature_29 >  -3.33\n",
      "|   |   |   |   |   |   |   |--- feature_22 <= 13.50\n",
      "|   |   |   |   |   |   |   |   |--- value: [12.21]\n",
      "|   |   |   |   |   |   |   |--- feature_22 >  13.50\n",
      "|   |   |   |   |   |   |   |   |--- value: [12.21]\n",
      "|--- feature_7 >  2.16\n",
      "|   |--- feature_7 <= 2.35\n",
      "|   |   |--- feature_28 <= 13.89\n",
      "|   |   |   |--- feature_22 <= 13.24\n",
      "|   |   |   |   |--- feature_194 <= 0.50\n",
      "|   |   |   |   |   |--- feature_32 <= -3.33\n",
      "|   |   |   |   |   |   |--- feature_17 <= 5.50\n",
      "|   |   |   |   |   |   |   |--- feature_31 <= 0.37\n",
      "|   |   |   |   |   |   |   |   |--- value: [11.88]\n",
      "|   |   |   |   |   |   |   |--- feature_31 >  0.37\n",
      "|   |   |   |   |   |   |   |   |--- value: [12.05]\n",
      "|   |   |   |   |   |   |--- feature_17 >  5.50\n",
      "|   |   |   |   |   |   |   |--- feature_23 <= 3.00\n",
      "|   |   |   |   |   |   |   |   |--- value: [11.83]\n",
      "|   |   |   |   |   |   |   |--- feature_23 >  3.00\n",
      "|   |   |   |   |   |   |   |   |--- value: [11.67]\n",
      "|   |   |   |   |   |--- feature_32 >  -3.33\n",
      "|   |   |   |   |   |   |--- feature_21 <= 11.61\n",
      "|   |   |   |   |   |   |   |--- feature_28 <= 13.14\n",
      "|   |   |   |   |   |   |   |   |--- value: [11.94]\n",
      "|   |   |   |   |   |   |   |--- feature_28 >  13.14\n",
      "|   |   |   |   |   |   |   |   |--- value: [12.06]\n",
      "|   |   |   |   |   |   |--- feature_21 >  11.61\n",
      "|   |   |   |   |   |   |   |--- feature_5 <= 1.50\n",
      "|   |   |   |   |   |   |   |   |--- value: [12.32]\n",
      "|   |   |   |   |   |   |   |--- feature_5 >  1.50\n",
      "|   |   |   |   |   |   |   |   |--- value: [12.19]\n",
      "|   |   |   |   |--- feature_194 >  0.50\n",
      "|   |   |   |   |   |--- feature_10 <= 14.15\n",
      "|   |   |   |   |   |   |--- feature_22 <= 12.98\n",
      "|   |   |   |   |   |   |   |--- feature_28 <= 12.57\n",
      "|   |   |   |   |   |   |   |   |--- value: [11.85]\n",
      "|   |   |   |   |   |   |   |--- feature_28 >  12.57\n",
      "|   |   |   |   |   |   |   |   |--- value: [12.02]\n",
      "|   |   |   |   |   |   |--- feature_22 >  12.98\n",
      "|   |   |   |   |   |   |   |--- value: [11.32]\n",
      "|   |   |   |   |   |--- feature_10 >  14.15\n",
      "|   |   |   |   |   |   |--- feature_43 <= 9.76\n",
      "|   |   |   |   |   |   |   |--- feature_2 <= 18.68\n",
      "|   |   |   |   |   |   |   |   |--- value: [11.95]\n",
      "|   |   |   |   |   |   |   |--- feature_2 >  18.68\n",
      "|   |   |   |   |   |   |   |   |--- value: [12.09]\n",
      "|   |   |   |   |   |   |--- feature_43 >  9.76\n",
      "|   |   |   |   |   |   |   |--- feature_40 <= 14.19\n",
      "|   |   |   |   |   |   |   |   |--- value: [12.18]\n",
      "|   |   |   |   |   |   |   |--- feature_40 >  14.19\n",
      "|   |   |   |   |   |   |   |   |--- value: [12.31]\n",
      "|   |   |   |--- feature_22 >  13.24\n",
      "|   |   |   |   |--- feature_153 <= 0.50\n",
      "|   |   |   |   |   |--- feature_48 <= 7.34\n",
      "|   |   |   |   |   |   |--- feature_14 <= 1.00\n",
      "|   |   |   |   |   |   |   |--- value: [12.65]\n",
      "|   |   |   |   |   |   |--- feature_14 >  1.00\n",
      "|   |   |   |   |   |   |   |--- feature_66 <= 0.50\n",
      "|   |   |   |   |   |   |   |   |--- value: [12.53]\n",
      "|   |   |   |   |   |   |   |--- feature_66 >  0.50\n",
      "|   |   |   |   |   |   |   |   |--- value: [12.57]\n",
      "|   |   |   |   |   |--- feature_48 >  7.34\n",
      "|   |   |   |   |   |   |--- value: [12.31]\n",
      "|   |   |   |   |--- feature_153 >  0.50\n",
      "|   |   |   |   |   |--- feature_22 <= 13.61\n",
      "|   |   |   |   |   |   |--- feature_175 <= 0.50\n",
      "|   |   |   |   |   |   |   |--- feature_1 <= 7.52\n",
      "|   |   |   |   |   |   |   |   |--- value: [12.27]\n",
      "|   |   |   |   |   |   |   |--- feature_1 >  7.52\n",
      "|   |   |   |   |   |   |   |   |--- value: [12.46]\n",
      "|   |   |   |   |   |   |--- feature_175 >  0.50\n",
      "|   |   |   |   |   |   |   |--- feature_47 <= 7.33\n",
      "|   |   |   |   |   |   |   |   |--- value: [12.34]\n",
      "|   |   |   |   |   |   |   |--- feature_47 >  7.33\n",
      "|   |   |   |   |   |   |   |   |--- value: [12.50]\n",
      "|   |   |   |   |   |--- feature_22 >  13.61\n",
      "|   |   |   |   |   |   |--- feature_25 <= 13.71\n",
      "|   |   |   |   |   |   |   |--- feature_1 <= 5.79\n",
      "|   |   |   |   |   |   |   |   |--- value: [12.39]\n",
      "|   |   |   |   |   |   |   |--- feature_1 >  5.79\n",
      "|   |   |   |   |   |   |   |   |--- value: [12.42]\n",
      "|   |   |   |   |   |   |--- feature_25 >  13.71\n",
      "|   |   |   |   |   |   |   |--- feature_18 <= 12.38\n",
      "|   |   |   |   |   |   |   |   |--- value: [12.47]\n",
      "|   |   |   |   |   |   |   |--- feature_18 >  12.38\n",
      "|   |   |   |   |   |   |   |   |--- value: [12.47]\n",
      "|   |   |--- feature_28 >  13.89\n",
      "|   |   |   |--- feature_22 <= 12.03\n",
      "|   |   |   |   |--- feature_9 <= 14.05\n",
      "|   |   |   |   |   |--- feature_98 <= 0.50\n",
      "|   |   |   |   |   |   |--- feature_103 <= 0.50\n",
      "|   |   |   |   |   |   |   |--- feature_43 <= 9.41\n",
      "|   |   |   |   |   |   |   |   |--- value: [11.95]\n",
      "|   |   |   |   |   |   |   |--- feature_43 >  9.41\n",
      "|   |   |   |   |   |   |   |   |--- value: [11.98]\n",
      "|   |   |   |   |   |   |--- feature_103 >  0.50\n",
      "|   |   |   |   |   |   |   |--- value: [12.03]\n",
      "|   |   |   |   |   |--- feature_98 >  0.50\n",
      "|   |   |   |   |   |   |--- value: [11.71]\n",
      "|   |   |   |   |--- feature_9 >  14.05\n",
      "|   |   |   |   |   |--- feature_10 <= 14.19\n",
      "|   |   |   |   |   |   |--- feature_48 <= 7.55\n",
      "|   |   |   |   |   |   |   |--- feature_22 <= 11.94\n",
      "|   |   |   |   |   |   |   |   |--- value: [12.22]\n",
      "|   |   |   |   |   |   |   |--- feature_22 >  11.94\n",
      "|   |   |   |   |   |   |   |   |--- value: [12.33]\n",
      "|   |   |   |   |   |   |--- feature_48 >  7.55\n",
      "|   |   |   |   |   |   |   |--- feature_22 <= 11.57\n",
      "|   |   |   |   |   |   |   |   |--- value: [12.37]\n",
      "|   |   |   |   |   |   |   |--- feature_22 >  11.57\n",
      "|   |   |   |   |   |   |   |   |--- value: [12.47]\n",
      "|   |   |   |   |   |--- feature_10 >  14.19\n",
      "|   |   |   |   |   |   |--- feature_43 <= 10.09\n",
      "|   |   |   |   |   |   |   |--- feature_194 <= 0.50\n",
      "|   |   |   |   |   |   |   |   |--- value: [12.52]\n",
      "|   |   |   |   |   |   |   |--- feature_194 >  0.50\n",
      "|   |   |   |   |   |   |   |   |--- value: [12.65]\n",
      "|   |   |   |   |   |   |--- feature_43 >  10.09\n",
      "|   |   |   |   |   |   |   |--- feature_16 <= 0.50\n",
      "|   |   |   |   |   |   |   |   |--- value: [12.30]\n",
      "|   |   |   |   |   |   |   |--- feature_16 >  0.50\n",
      "|   |   |   |   |   |   |   |   |--- value: [12.41]\n",
      "|   |   |   |--- feature_22 >  12.03\n",
      "|   |   |   |   |--- feature_18 <= 11.97\n",
      "|   |   |   |   |   |--- feature_1 <= 6.29\n",
      "|   |   |   |   |   |   |--- feature_22 <= 13.99\n",
      "|   |   |   |   |   |   |   |--- feature_28 <= 14.37\n",
      "|   |   |   |   |   |   |   |   |--- value: [12.32]\n",
      "|   |   |   |   |   |   |   |--- feature_28 >  14.37\n",
      "|   |   |   |   |   |   |   |   |--- value: [12.46]\n",
      "|   |   |   |   |   |   |--- feature_22 >  13.99\n",
      "|   |   |   |   |   |   |   |--- feature_83 <= 0.50\n",
      "|   |   |   |   |   |   |   |   |--- value: [12.10]\n",
      "|   |   |   |   |   |   |   |--- feature_83 >  0.50\n",
      "|   |   |   |   |   |   |   |   |--- value: [12.05]\n",
      "|   |   |   |   |   |--- feature_1 >  6.29\n",
      "|   |   |   |   |   |   |--- feature_47 <= 7.93\n",
      "|   |   |   |   |   |   |   |--- feature_68 <= 0.50\n",
      "|   |   |   |   |   |   |   |   |--- value: [12.42]\n",
      "|   |   |   |   |   |   |   |--- feature_68 >  0.50\n",
      "|   |   |   |   |   |   |   |   |--- value: [12.51]\n",
      "|   |   |   |   |   |   |--- feature_47 >  7.93\n",
      "|   |   |   |   |   |   |   |--- feature_11 <= 9.71\n",
      "|   |   |   |   |   |   |   |   |--- value: [12.58]\n",
      "|   |   |   |   |   |   |   |--- feature_11 >  9.71\n",
      "|   |   |   |   |   |   |   |   |--- value: [12.67]\n",
      "|   |   |   |   |--- feature_18 >  11.97\n",
      "|   |   |   |   |   |--- feature_16 <= 2.50\n",
      "|   |   |   |   |   |   |--- feature_11 <= 11.69\n",
      "|   |   |   |   |   |   |   |--- feature_2 <= 19.85\n",
      "|   |   |   |   |   |   |   |   |--- value: [12.50]\n",
      "|   |   |   |   |   |   |   |--- feature_2 >  19.85\n",
      "|   |   |   |   |   |   |   |   |--- value: [12.71]\n",
      "|   |   |   |   |   |   |--- feature_11 >  11.69\n",
      "|   |   |   |   |   |   |   |--- value: [12.40]\n",
      "|   |   |   |   |   |--- feature_16 >  2.50\n",
      "|   |   |   |   |   |   |--- feature_71 <= 0.50\n",
      "|   |   |   |   |   |   |   |--- feature_162 <= 0.50\n",
      "|   |   |   |   |   |   |   |   |--- value: [12.41]\n",
      "|   |   |   |   |   |   |   |--- feature_162 >  0.50\n",
      "|   |   |   |   |   |   |   |   |--- value: [12.34]\n",
      "|   |   |   |   |   |   |--- feature_71 >  0.50\n",
      "|   |   |   |   |   |   |   |--- feature_5 <= 1.50\n",
      "|   |   |   |   |   |   |   |   |--- value: [12.51]\n",
      "|   |   |   |   |   |   |   |--- feature_5 >  1.50\n",
      "|   |   |   |   |   |   |   |   |--- value: [12.48]\n",
      "|   |--- feature_7 >  2.35\n",
      "|   |   |--- feature_7 <= 2.52\n",
      "|   |   |   |--- feature_28 <= 14.06\n",
      "|   |   |   |   |--- feature_22 <= 13.08\n",
      "|   |   |   |   |   |--- feature_43 <= 10.25\n",
      "|   |   |   |   |   |   |--- feature_61 <= 0.50\n",
      "|   |   |   |   |   |   |   |--- feature_130 <= 0.50\n",
      "|   |   |   |   |   |   |   |   |--- value: [12.05]\n",
      "|   |   |   |   |   |   |   |--- feature_130 >  0.50\n",
      "|   |   |   |   |   |   |   |   |--- value: [11.99]\n",
      "|   |   |   |   |   |   |--- feature_61 >  0.50\n",
      "|   |   |   |   |   |   |   |--- feature_178 <= 0.50\n",
      "|   |   |   |   |   |   |   |   |--- value: [12.03]\n",
      "|   |   |   |   |   |   |   |--- feature_178 >  0.50\n",
      "|   |   |   |   |   |   |   |   |--- value: [12.20]\n",
      "|   |   |   |   |   |--- feature_43 >  10.25\n",
      "|   |   |   |   |   |   |--- feature_47 <= 7.49\n",
      "|   |   |   |   |   |   |   |--- feature_2 <= 19.03\n",
      "|   |   |   |   |   |   |   |   |--- value: [12.18]\n",
      "|   |   |   |   |   |   |   |--- feature_2 >  19.03\n",
      "|   |   |   |   |   |   |   |   |--- value: [12.33]\n",
      "|   |   |   |   |   |   |--- feature_47 >  7.49\n",
      "|   |   |   |   |   |   |   |--- feature_22 <= 12.21\n",
      "|   |   |   |   |   |   |   |   |--- value: [12.35]\n",
      "|   |   |   |   |   |   |   |--- feature_22 >  12.21\n",
      "|   |   |   |   |   |   |   |   |--- value: [12.48]\n",
      "|   |   |   |   |--- feature_22 >  13.08\n",
      "|   |   |   |   |   |--- feature_18 <= 9.70\n",
      "|   |   |   |   |   |   |--- feature_22 <= 13.83\n",
      "|   |   |   |   |   |   |   |--- feature_14 <= 1.00\n",
      "|   |   |   |   |   |   |   |   |--- value: [12.57]\n",
      "|   |   |   |   |   |   |   |--- feature_14 >  1.00\n",
      "|   |   |   |   |   |   |   |   |--- value: [12.38]\n",
      "|   |   |   |   |   |   |--- feature_22 >  13.83\n",
      "|   |   |   |   |   |   |   |--- value: [11.90]\n",
      "|   |   |   |   |   |--- feature_18 >  9.70\n",
      "|   |   |   |   |   |   |--- feature_219 <= 0.50\n",
      "|   |   |   |   |   |   |   |--- feature_22 <= 13.60\n",
      "|   |   |   |   |   |   |   |   |--- value: [12.49]\n",
      "|   |   |   |   |   |   |   |--- feature_22 >  13.60\n",
      "|   |   |   |   |   |   |   |   |--- value: [12.58]\n",
      "|   |   |   |   |   |   |--- feature_219 >  0.50\n",
      "|   |   |   |   |   |   |   |--- feature_47 <= 7.75\n",
      "|   |   |   |   |   |   |   |   |--- value: [12.81]\n",
      "|   |   |   |   |   |   |   |--- feature_47 >  7.75\n",
      "|   |   |   |   |   |   |   |   |--- value: [12.58]\n",
      "|   |   |   |--- feature_28 >  14.06\n",
      "|   |   |   |   |--- feature_25 <= 13.22\n",
      "|   |   |   |   |   |--- feature_62 <= 0.50\n",
      "|   |   |   |   |   |   |--- feature_28 <= 14.66\n",
      "|   |   |   |   |   |   |   |--- feature_43 <= 10.98\n",
      "|   |   |   |   |   |   |   |   |--- value: [12.42]\n",
      "|   |   |   |   |   |   |   |--- feature_43 >  10.98\n",
      "|   |   |   |   |   |   |   |   |--- value: [12.52]\n",
      "|   |   |   |   |   |   |--- feature_28 >  14.66\n",
      "|   |   |   |   |   |   |   |--- feature_11 <= 9.33\n",
      "|   |   |   |   |   |   |   |   |--- value: [12.56]\n",
      "|   |   |   |   |   |   |   |--- feature_11 >  9.33\n",
      "|   |   |   |   |   |   |   |   |--- value: [12.70]\n",
      "|   |   |   |   |   |--- feature_62 >  0.50\n",
      "|   |   |   |   |   |   |--- value: [11.71]\n",
      "|   |   |   |   |--- feature_25 >  13.22\n",
      "|   |   |   |   |   |--- feature_1 <= 5.72\n",
      "|   |   |   |   |   |   |--- feature_94 <= 0.50\n",
      "|   |   |   |   |   |   |   |--- feature_128 <= 0.50\n",
      "|   |   |   |   |   |   |   |   |--- value: [12.91]\n",
      "|   |   |   |   |   |   |   |--- feature_128 >  0.50\n",
      "|   |   |   |   |   |   |   |   |--- value: [12.96]\n",
      "|   |   |   |   |   |   |--- feature_94 >  0.50\n",
      "|   |   |   |   |   |   |   |--- value: [13.20]\n",
      "|   |   |   |   |   |--- feature_1 >  5.72\n",
      "|   |   |   |   |   |   |--- feature_1 <= 6.75\n",
      "|   |   |   |   |   |   |   |--- feature_31 <= 0.96\n",
      "|   |   |   |   |   |   |   |   |--- value: [12.66]\n",
      "|   |   |   |   |   |   |   |--- feature_31 >  0.96\n",
      "|   |   |   |   |   |   |   |   |--- value: [12.88]\n",
      "|   |   |   |   |   |   |--- feature_1 >  6.75\n",
      "|   |   |   |   |   |   |   |--- feature_10 <= 14.19\n",
      "|   |   |   |   |   |   |   |   |--- value: [12.90]\n",
      "|   |   |   |   |   |   |   |--- feature_10 >  14.19\n",
      "|   |   |   |   |   |   |   |   |--- value: [12.99]\n",
      "|   |   |--- feature_7 >  2.52\n",
      "|   |   |   |--- feature_26 <= 13.61\n",
      "|   |   |   |   |--- feature_22 <= 15.61\n",
      "|   |   |   |   |   |--- feature_28 <= 14.20\n",
      "|   |   |   |   |   |   |--- feature_18 <= 12.55\n",
      "|   |   |   |   |   |   |   |--- feature_56 <= 6.50\n",
      "|   |   |   |   |   |   |   |   |--- value: [12.70]\n",
      "|   |   |   |   |   |   |   |--- feature_56 >  6.50\n",
      "|   |   |   |   |   |   |   |   |--- value: [12.54]\n",
      "|   |   |   |   |   |   |--- feature_18 >  12.55\n",
      "|   |   |   |   |   |   |   |--- feature_21 <= 9.96\n",
      "|   |   |   |   |   |   |   |   |--- value: [12.83]\n",
      "|   |   |   |   |   |   |   |--- feature_21 >  9.96\n",
      "|   |   |   |   |   |   |   |   |--- value: [12.72]\n",
      "|   |   |   |   |   |--- feature_28 >  14.20\n",
      "|   |   |   |   |   |   |--- feature_25 <= 13.39\n",
      "|   |   |   |   |   |   |   |--- feature_26 <= 13.18\n",
      "|   |   |   |   |   |   |   |   |--- value: [12.75]\n",
      "|   |   |   |   |   |   |   |--- feature_26 >  13.18\n",
      "|   |   |   |   |   |   |   |   |--- value: [13.03]\n",
      "|   |   |   |   |   |   |--- feature_25 >  13.39\n",
      "|   |   |   |   |   |   |   |--- feature_175 <= 0.50\n",
      "|   |   |   |   |   |   |   |   |--- value: [12.93]\n",
      "|   |   |   |   |   |   |   |--- feature_175 >  0.50\n",
      "|   |   |   |   |   |   |   |   |--- value: [13.16]\n",
      "|   |   |   |   |--- feature_22 >  15.61\n",
      "|   |   |   |   |   |--- feature_21 <= 10.92\n",
      "|   |   |   |   |   |   |--- value: [11.98]\n",
      "|   |   |   |   |   |--- feature_21 >  10.92\n",
      "|   |   |   |   |   |   |--- value: [12.13]\n",
      "|   |   |   |--- feature_26 >  13.61\n",
      "|   |   |   |   |--- feature_35 <= 1.00\n",
      "|   |   |   |   |   |--- feature_163 <= 0.50\n",
      "|   |   |   |   |   |   |--- value: [13.53]\n",
      "|   |   |   |   |   |--- feature_163 >  0.50\n",
      "|   |   |   |   |   |   |--- value: [13.52]\n",
      "|   |   |   |   |--- feature_35 >  1.00\n",
      "|   |   |   |   |   |--- value: [13.35]\n",
      "\n"
     ]
    }
   ],
   "source": [
    "#visualize the tree\n",
    "dtree.fit(df_train2, df_train['SalePrice'])\n",
    "text_representation = tree.export_text(dtree)\n",
    "print(text_representation)"
   ]
  },
  {
   "cell_type": "code",
   "execution_count": 65,
   "metadata": {},
   "outputs": [
    {
     "data": {
      "image/png": "[encoded data removed]",
      "text/plain": [
       "<Figure size 432x288 with 1 Axes>"
      ]
     },
     "metadata": {
      "needs_background": "light"
     },
     "output_type": "display_data"
    }
   ],
   "source": [
    "#plot the feature importance for the first 10 features.\n",
    "def plot_feature_importances_tree(model):\n",
    "    indices = dtree.feature_importances_.argsort()[-10:]\n",
    "    n_features = len(indices)\n",
    "    plt.barh(range(n_features), model.feature_importances_[indices], align='center')\n",
    "    plt.yticks(np.arange(n_features), df_train2.columns[indices])\n",
    "    plt.xlabel(\"Feature importance\")\n",
    "    plt.ylabel(\"Feature\")\n",
    "    plt.ylim(-1, n_features)\n",
    "\n",
    "plot_feature_importances_tree(dtree)"
   ]
  },
  {
   "cell_type": "markdown",
   "metadata": {},
   "source": [
    "# Random Forest"
   ]
  },
  {
   "cell_type": "code",
   "execution_count": 66,
   "metadata": {},
   "outputs": [
    {
     "name": "stdout",
     "output_type": "stream",
     "text": [
      "random_forest: 0.1406 (0.0230)\n"
     ]
    }
   ],
   "source": [
    "# Random Forest Regressor\n",
    "rf = RandomForestRegressor()\n",
    "score = cv_rmse(rf)\n",
    "print(\"random_forest: {:.4f} ({:.4f})\".format(score.mean(), score.std()))"
   ]
  },
  {
   "cell_type": "code",
   "execution_count": 67,
   "metadata": {},
   "outputs": [],
   "source": [
    "# Tune the parameter of max_depth, search for max_depth that have lowest cv score\n",
    "mean_score = []\n",
    "for i in range(1,15):\n",
    "    rf = RandomForestRegressor(max_depth=i)\n",
    "    score = cv_rmse(rf)\n",
    "    mean_score.append(score.mean())"
   ]
  },
  {
   "cell_type": "code",
   "execution_count": 68,
   "metadata": {},
   "outputs": [
    {
     "data": {
      "text/plain": [
       "[<matplotlib.lines.Line2D at 0x281535dde50>]"
      ]
     },
     "execution_count": 68,
     "metadata": {},
     "output_type": "execute_result"
    },
    {
     "data": {
      "image/png": "[encoded data removed]",
      "text/plain": [
       "<Figure size 432x288 with 1 Axes>"
      ]
     },
     "metadata": {
      "needs_background": "light"
     },
     "output_type": "display_data"
    }
   ],
   "source": [
    "# Plot the mean_score to choose the best n_neighbors parameter\n",
    "plt.plot(list(range(1,15)), mean_score)"
   ]
  },
  {
   "cell_type": "code",
   "execution_count": 69,
   "metadata": {},
   "outputs": [
    {
     "name": "stdout",
     "output_type": "stream",
     "text": [
      "random_forest: 0.1410 (0.0231)\n"
     ]
    }
   ],
   "source": [
    "# The max_depth = 15 gives the lowest mean cv score\n",
    "rf = RandomForestRegressor(max_depth = 15)\n",
    "score = cv_rmse(rf)\n",
    "print(\"random_forest: {:.4f} ({:.4f})\".format(score.mean(), score.std()))\n",
    "scores['random_forest'] = (score.mean(), score.std())"
   ]
  },
  {
   "cell_type": "code",
   "execution_count": 70,
   "metadata": {
    "scrolled": true
   },
   "outputs": [
    {
     "data": {
      "image/png": "[encoded data removed]",
      "text/plain": [
       "<Figure size 432x288 with 1 Axes>"
      ]
     },
     "metadata": {
      "needs_background": "light"
     },
     "output_type": "display_data"
    }
   ],
   "source": [
    "#plot the importance of the feautures in random forest\n",
    "rf.fit(df_train2, df_train['SalePrice'])\n",
    "plot_feature_importances_tree(rf)"
   ]
  },
  {
   "cell_type": "markdown",
   "metadata": {},
   "source": [
    "# AdaBoost"
   ]
  },
  {
   "cell_type": "code",
   "execution_count": 71,
   "metadata": {},
   "outputs": [
    {
     "name": "stdout",
     "output_type": "stream",
     "text": [
      "adaboost: 0.1754 (0.0176)\n"
     ]
    }
   ],
   "source": [
    "# AdaBoost Regressor\n",
    "adaboost = AdaBoostRegressor()\n",
    "score = cv_rmse(adaboost)\n",
    "print(\"adaboost: {:.4f} ({:.4f})\".format(score.mean(), score.std()))"
   ]
  },
  {
   "cell_type": "code",
   "execution_count": 72,
   "metadata": {},
   "outputs": [],
   "source": [
    "# Check the learning rate that gives the lowest mean cv score\n",
    "mean_score = []\n",
    "for lr in [0.001, 0.01, 0.1, 0.5, 1, 2, 3, 5, 7, 10]:\n",
    "    adaboost = AdaBoostRegressor(learning_rate = lr)\n",
    "    score = cv_rmse(adaboost)\n",
    "    mean_score.append(score.mean())"
   ]
  },
  {
   "cell_type": "code",
   "execution_count": 73,
   "metadata": {},
   "outputs": [
    {
     "data": {
      "text/plain": [
       "[<matplotlib.lines.Line2D at 0x281536a8880>]"
      ]
     },
     "execution_count": 73,
     "metadata": {},
     "output_type": "execute_result"
    },
    {
     "data": {
      "image/png": "[encoded data removed]",
      "text/plain": [
       "<Figure size 432x288 with 1 Axes>"
      ]
     },
     "metadata": {
      "needs_background": "light"
     },
     "output_type": "display_data"
    }
   ],
   "source": [
    "# Plot the mean_score to choose the best learning rate\n",
    "plt.plot(list(range(10)), mean_score)"
   ]
  },
  {
   "cell_type": "code",
   "execution_count": 74,
   "metadata": {},
   "outputs": [
    {
     "name": "stdout",
     "output_type": "stream",
     "text": [
      "AdaBoost: 0.1700 (0.0159)\n"
     ]
    }
   ],
   "source": [
    "# The best learning rate is 3, so we add AdaBoost to the mean_score\n",
    "adaboost = AdaBoostRegressor(learning_rate = 3)\n",
    "score = cv_rmse(adaboost)\n",
    "print(\"AdaBoost: {:.4f} ({:.4f})\".format(score.mean(), score.std()))\n",
    "scores['AdaBoost'] = (score.mean(), score.std())"
   ]
  },
  {
   "cell_type": "code",
   "execution_count": 75,
   "metadata": {
    "scrolled": true
   },
   "outputs": [
    {
     "data": {
      "image/png": "[encoded data removed]",
      "text/plain": [
       "<Figure size 432x288 with 1 Axes>"
      ]
     },
     "metadata": {
      "needs_background": "light"
     },
     "output_type": "display_data"
    }
   ],
   "source": [
    "# Plot the importance of the feautures in random forest\n",
    "adaboost.fit(df_train2, df_train['SalePrice'])\n",
    "plot_feature_importances_tree(adaboost)"
   ]
  },
  {
   "cell_type": "markdown",
   "metadata": {},
   "source": [
    "# Gradient Boost"
   ]
  },
  {
   "cell_type": "code",
   "execution_count": 76,
   "metadata": {},
   "outputs": [
    {
     "name": "stdout",
     "output_type": "stream",
     "text": [
      "gradient_boost: 0.1275 (0.0203)\n"
     ]
    }
   ],
   "source": [
    "# Gradient Boost Regressor\n",
    "gboost = GradientBoostingRegressor()\n",
    "score = cv_rmse(gboost)\n",
    "print(\"gradient_boost: {:.4f} ({:.4f})\".format(score.mean(), score.std()))"
   ]
  },
  {
   "cell_type": "code",
   "execution_count": 77,
   "metadata": {},
   "outputs": [],
   "source": [
    "# Check the learning rate that gives the lowest mean cv score\n",
    "mean_score = []\n",
    "for lr in [0.05, 0.08, 0.1, 0.12, 0.14, 0.16, 0.2]:\n",
    "    gboost = GradientBoostingRegressor(learning_rate = lr)\n",
    "    score = cv_rmse(gboost)\n",
    "    mean_score.append(score.mean())"
   ]
  },
  {
   "cell_type": "code",
   "execution_count": 78,
   "metadata": {},
   "outputs": [
    {
     "data": {
      "text/plain": [
       "[<matplotlib.lines.Line2D at 0x2815376e370>]"
      ]
     },
     "execution_count": 78,
     "metadata": {},
     "output_type": "execute_result"
    },
    {
     "data": {
      "image/png": "[encoded data removed]",
      "text/plain": [
       "<Figure size 432x288 with 1 Axes>"
      ]
     },
     "metadata": {
      "needs_background": "light"
     },
     "output_type": "display_data"
    }
   ],
   "source": [
    "# Plot the mean_score to choose the best learning rate\n",
    "plt.plot(list(range(7)), mean_score)"
   ]
  },
  {
   "cell_type": "code",
   "execution_count": 79,
   "metadata": {},
   "outputs": [
    {
     "name": "stdout",
     "output_type": "stream",
     "text": [
      "gradient_boost: 0.1272 (0.0210)\n"
     ]
    }
   ],
   "source": [
    "# The best learning rate is 0.16, so we add GradientBoostingRegressor to the mean_score\n",
    "gboost = GradientBoostingRegressor(learning_rate = 0.16)\n",
    "score = cv_rmse(gboost)\n",
    "print(\"gradient_boost: {:.4f} ({:.4f})\".format(score.mean(), score.std()))\n",
    "scores['gradient_boost'] = (score.mean(), score.std())"
   ]
  },
  {
   "cell_type": "code",
   "execution_count": 80,
   "metadata": {},
   "outputs": [
    {
     "data": {
      "image/png": "[encoded data removed]",
      "text/plain": [
       "<Figure size 432x288 with 1 Axes>"
      ]
     },
     "metadata": {
      "needs_background": "light"
     },
     "output_type": "display_data"
    }
   ],
   "source": [
    "# Plot the importance of the feautures in random forest\n",
    "gboost.fit(df_train2, df_train['SalePrice'])\n",
    "plot_feature_importances_tree(gboost)"
   ]
  },
  {
   "cell_type": "markdown",
   "metadata": {},
   "source": [
    "# XGBoost"
   ]
  },
  {
   "cell_type": "code",
   "execution_count": 81,
   "metadata": {},
   "outputs": [
    {
     "name": "stdout",
     "output_type": "stream",
     "text": [
      "xgboost: 0.1408 (0.0245)\n"
     ]
    }
   ],
   "source": [
    "# XGBoost Regressor\n",
    "xgboost = XGBRegressor()\n",
    "score = cv_rmse(xgboost)\n",
    "print(\"xgboost: {:.4f} ({:.4f})\".format(score.mean(), score.std()))"
   ]
  },
  {
   "cell_type": "code",
   "execution_count": 82,
   "metadata": {},
   "outputs": [],
   "source": [
    "# Check the learning rate that gives the lowest mean cv score\n",
    "mean_score = []\n",
    "for lr in [0.05, 0.08, 0.1, 0.12, 0.14, 0.16, 0.2]:\n",
    "    xgboost = XGBRegressor(learning_rate = lr)\n",
    "    score = cv_rmse(xgboost)\n",
    "    mean_score.append(score.mean())"
   ]
  },
  {
   "cell_type": "code",
   "execution_count": 83,
   "metadata": {},
   "outputs": [
    {
     "data": {
      "text/plain": [
       "[<matplotlib.lines.Line2D at 0x2815384a3a0>]"
      ]
     },
     "execution_count": 83,
     "metadata": {},
     "output_type": "execute_result"
    },
    {
     "data": {
      "image/png": "[encoded data removed]",
      "text/plain": [
       "<Figure size 432x288 with 1 Axes>"
      ]
     },
     "metadata": {
      "needs_background": "light"
     },
     "output_type": "display_data"
    }
   ],
   "source": [
    "# Plot the mean_score to choose the best learning rate\n",
    "plt.plot(list(range(7)), mean_score)"
   ]
  },
  {
   "cell_type": "code",
   "execution_count": 84,
   "metadata": {},
   "outputs": [
    {
     "name": "stdout",
     "output_type": "stream",
     "text": [
      "xgboost: 0.1301 (0.0232)\n"
     ]
    }
   ],
   "source": [
    "# The best learning rate is 0.16, so we add GradientBoostingRegressor to the mean_score\n",
    "xgboost = XGBRegressor(learning_rate = 0.16)\n",
    "score = cv_rmse(xgboost)\n",
    "print(\"xgboost: {:.4f} ({:.4f})\".format(score.mean(), score.std()))\n",
    "scores['xgboost'] = (score.mean(), score.std())"
   ]
  },
  {
   "cell_type": "code",
   "execution_count": 85,
   "metadata": {},
   "outputs": [
    {
     "data": {
      "image/png": "[encoded data removed]",
      "text/plain": [
       "<Figure size 432x288 with 1 Axes>"
      ]
     },
     "metadata": {
      "needs_background": "light"
     },
     "output_type": "display_data"
    }
   ],
   "source": [
    "# Plot the importance of the feautures in random forest\n",
    "xgboost.fit(df_train2, df_train['SalePrice'])\n",
    "plot_feature_importances_tree(xgboost)"
   ]
  },
  {
   "cell_type": "markdown",
   "metadata": {},
   "source": [
    "# LightGBM"
   ]
  },
  {
   "cell_type": "code",
   "execution_count": 86,
   "metadata": {},
   "outputs": [
    {
     "name": "stdout",
     "output_type": "stream",
     "text": [
      "lgbm: 0.1308 (0.0216)\n"
     ]
    }
   ],
   "source": [
    "# LightGBM Regressor\n",
    "lgbm = LGBMRegressor()\n",
    "score = cv_rmse(lgbm)\n",
    "print(\"lgbm: {:.4f} ({:.4f})\".format(score.mean(), score.std()))"
   ]
  },
  {
   "cell_type": "code",
   "execution_count": 87,
   "metadata": {},
   "outputs": [],
   "source": [
    "# Check the learning rate that gives the lowest mean cv score\n",
    "mean_score = []\n",
    "for lr in [0.05, 0.08, 0.1, 0.12, 0.14, 0.16, 0.2]:\n",
    "    lgbm = LGBMRegressor(learning_rate = lr)\n",
    "    score = cv_rmse(lgbm)\n",
    "    mean_score.append(score.mean())"
   ]
  },
  {
   "cell_type": "code",
   "execution_count": 88,
   "metadata": {},
   "outputs": [
    {
     "data": {
      "text/plain": [
       "[<matplotlib.lines.Line2D at 0x28153923970>]"
      ]
     },
     "execution_count": 88,
     "metadata": {},
     "output_type": "execute_result"
    },
    {
     "data": {
      "image/png": "[encoded data removed]",
      "text/plain": [
       "<Figure size 432x288 with 1 Axes>"
      ]
     },
     "metadata": {
      "needs_background": "light"
     },
     "output_type": "display_data"
    }
   ],
   "source": [
    "# Plot the mean_score to choose the best learning rate\n",
    "plt.plot(list(range(7)), mean_score)"
   ]
  },
  {
   "cell_type": "code",
   "execution_count": 89,
   "metadata": {},
   "outputs": [
    {
     "name": "stdout",
     "output_type": "stream",
     "text": [
      "lgbm: 0.1316 (0.0203)\n"
     ]
    }
   ],
   "source": [
    "# The best learning rate is 0.14, so we add GradientBoostingRegressor to the mean_score\n",
    "lgbm = LGBMRegressor(learning_rate = 0.14)\n",
    "score = cv_rmse(lgbm)\n",
    "print(\"lgbm: {:.4f} ({:.4f})\".format(score.mean(), score.std()))\n",
    "scores['lgbm'] = (score.mean(), score.std())"
   ]
  },
  {
   "cell_type": "code",
   "execution_count": 90,
   "metadata": {},
   "outputs": [
    {
     "data": {
      "image/png": "[encoded data removed]",
      "text/plain": [
       "<Figure size 432x288 with 1 Axes>"
      ]
     },
     "metadata": {
      "needs_background": "light"
     },
     "output_type": "display_data"
    }
   ],
   "source": [
    "# Plot the importance of the feautures in random forest\n",
    "lgbm.fit(df_train2, df_train['SalePrice'])\n",
    "plot_feature_importances_tree(lgbm)"
   ]
  },
  {
   "cell_type": "markdown",
   "metadata": {},
   "source": [
    "# Support Vector Regressor"
   ]
  },
  {
   "cell_type": "code",
   "execution_count": 91,
   "metadata": {},
   "outputs": [
    {
     "name": "stdout",
     "output_type": "stream",
     "text": [
      "SVR: 0.1309 (0.0287)\n"
     ]
    }
   ],
   "source": [
    "# Support Vector Regressor\n",
    "svr = make_pipeline(RobustScaler(), SVR(C= 20, epsilon= 0.008, gamma=0.0003))\n",
    "score = cv_rmse(svr)\n",
    "print(\"SVR: {:.4f} ({:.4f})\".format(score.mean(), score.std()))\n",
    "scores['svr'] = (score.mean(), score.std())"
   ]
  },
  {
   "cell_type": "markdown",
   "metadata": {},
   "source": [
    "# Stacking Models"
   ]
  },
  {
   "cell_type": "code",
   "execution_count": 92,
   "metadata": {},
   "outputs": [
    {
     "data": {
      "text/plain": [
       "{'knn': (0.2564255375635015, 0.021427569710740692),\n",
       " 'ols': (0.1378817938722325, 0.02768171495622297),\n",
       " 'ridge': (0.12831751418745777, 0.02415525372597325),\n",
       " 'lasso': (0.12533243261887986, 0.024401978303057396),\n",
       " 'decision_tree': (0.20289393811834358, 0.02414578227874438),\n",
       " 'random_forest': (0.14097501518726385, 0.02305560993505178),\n",
       " 'AdaBoost': (0.1699782770285459, 0.015936153676318707),\n",
       " 'gradient_boost': (0.12723638090720088, 0.021020658114378),\n",
       " 'xgboost': (0.13007268062253036, 0.02322019484198948),\n",
       " 'lgbm': (0.13164648011477978, 0.02027251481196063),\n",
       " 'svr': (0.13092212556590255, 0.028725887111936334)}"
      ]
     },
     "execution_count": 92,
     "metadata": {},
     "output_type": "execute_result"
    }
   ],
   "source": [
    "# Show the scores of each model\n",
    "scores"
   ]
  },
  {
   "cell_type": "code",
   "execution_count": 93,
   "metadata": {},
   "outputs": [
    {
     "data": {
      "text/plain": [
       "Pipeline(steps=[('robustscaler', RobustScaler()),\n",
       "                ('svr', SVR(C=20, epsilon=0.008, gamma=0.0003))])"
      ]
     },
     "execution_count": 93,
     "metadata": {},
     "output_type": "execute_result"
    }
   ],
   "source": [
    "# Fit the models\n",
    "knn.fit(df_train2, df_train['SalePrice'])\n",
    "ols.fit(df_train2, df_train['SalePrice'])\n",
    "ridge.fit(df_train2, df_train['SalePrice'])\n",
    "lasso.fit(df_train2, df_train['SalePrice'])\n",
    "dtree.fit(df_train2, df_train['SalePrice'])\n",
    "rf.fit(df_train2, df_train['SalePrice'])\n",
    "adaboost.fit(df_train2, df_train['SalePrice'])\n",
    "gboost.fit(df_train2, df_train['SalePrice'])\n",
    "xgboost.fit(df_train2, df_train['SalePrice'])\n",
    "lgbm.fit(df_train2, df_train['SalePrice'])\n",
    "svr.fit(df_train2, df_train['SalePrice'])"
   ]
  },
  {
   "cell_type": "code",
   "execution_count": 94,
   "metadata": {},
   "outputs": [],
   "source": [
    "# Stacking the models by giving higher weight to models with lower rmse\n",
    "# Stack the ridge, lasso, gradient boost, xgboost, lightgbm, and svr\n",
    "def stacked_predictions(df_train2):\n",
    "    return ((0.2 * ridge.predict(df_train2)) + \\\n",
    "            (0.2 * lasso.predict(df_train2)) + \\\n",
    "            (0.3 * gboost.predict(df_train2)) + \\\n",
    "            (0.1 * xgboost.predict(df_train2)) + \\\n",
    "            (0.1 * lgbm.predict(df_train2)) + \\\n",
    "            (0.1 * svr.predict(df_train2)))"
   ]
  },
  {
   "cell_type": "code",
   "execution_count": 95,
   "metadata": {},
   "outputs": [],
   "source": [
    "# Define the error metrics\n",
    "def rmsle(y, y_pred):\n",
    "    return np.sqrt(mean_squared_error(y, y_pred))"
   ]
  },
  {
   "cell_type": "code",
   "execution_count": 96,
   "metadata": {},
   "outputs": [
    {
     "data": {
      "text/plain": [
       "0.07446385494141768"
      ]
     },
     "execution_count": 96,
     "metadata": {},
     "output_type": "execute_result"
    }
   ],
   "source": [
    "rmsle(df_train['SalePrice'], stacked_predictions(df_train2))"
   ]
  },
  {
   "cell_type": "markdown",
   "metadata": {},
   "source": [
    "# Submission"
   ]
  },
  {
   "cell_type": "code",
   "execution_count": 97,
   "metadata": {},
   "outputs": [
    {
     "data": {
      "text/html": [
       "<div>\n",
       "<style scoped>\n",
       "    .dataframe tbody tr th:only-of-type {\n",
       "        vertical-align: middle;\n",
       "    }\n",
       "\n",
       "    .dataframe tbody tr th {\n",
       "        vertical-align: top;\n",
       "    }\n",
       "\n",
       "    .dataframe thead th {\n",
       "        text-align: right;\n",
       "    }\n",
       "</style>\n",
       "<table border=\"1\" class=\"dataframe\">\n",
       "  <thead>\n",
       "    <tr style=\"text-align: right;\">\n",
       "      <th></th>\n",
       "      <th>Id</th>\n",
       "      <th>SalePrice</th>\n",
       "    </tr>\n",
       "  </thead>\n",
       "  <tbody>\n",
       "    <tr>\n",
       "      <th>0</th>\n",
       "      <td>1461</td>\n",
       "      <td>169277.052498</td>\n",
       "    </tr>\n",
       "    <tr>\n",
       "      <th>1</th>\n",
       "      <td>1462</td>\n",
       "      <td>187758.393989</td>\n",
       "    </tr>\n",
       "    <tr>\n",
       "      <th>2</th>\n",
       "      <td>1463</td>\n",
       "      <td>183583.683570</td>\n",
       "    </tr>\n",
       "    <tr>\n",
       "      <th>3</th>\n",
       "      <td>1464</td>\n",
       "      <td>179317.477511</td>\n",
       "    </tr>\n",
       "    <tr>\n",
       "      <th>4</th>\n",
       "      <td>1465</td>\n",
       "      <td>150730.079977</td>\n",
       "    </tr>\n",
       "    <tr>\n",
       "      <th>...</th>\n",
       "      <td>...</td>\n",
       "      <td>...</td>\n",
       "    </tr>\n",
       "    <tr>\n",
       "      <th>1454</th>\n",
       "      <td>2915</td>\n",
       "      <td>167081.220949</td>\n",
       "    </tr>\n",
       "    <tr>\n",
       "      <th>1455</th>\n",
       "      <td>2916</td>\n",
       "      <td>164788.778231</td>\n",
       "    </tr>\n",
       "    <tr>\n",
       "      <th>1456</th>\n",
       "      <td>2917</td>\n",
       "      <td>219222.423400</td>\n",
       "    </tr>\n",
       "    <tr>\n",
       "      <th>1457</th>\n",
       "      <td>2918</td>\n",
       "      <td>184924.279659</td>\n",
       "    </tr>\n",
       "    <tr>\n",
       "      <th>1458</th>\n",
       "      <td>2919</td>\n",
       "      <td>187741.866657</td>\n",
       "    </tr>\n",
       "  </tbody>\n",
       "</table>\n",
       "<p>1459 rows × 2 columns</p>\n",
       "</div>"
      ],
      "text/plain": [
       "        Id      SalePrice\n",
       "0     1461  169277.052498\n",
       "1     1462  187758.393989\n",
       "2     1463  183583.683570\n",
       "3     1464  179317.477511\n",
       "4     1465  150730.079977\n",
       "...    ...            ...\n",
       "1454  2915  167081.220949\n",
       "1455  2916  164788.778231\n",
       "1456  2917  219222.423400\n",
       "1457  2918  184924.279659\n",
       "1458  2919  187741.866657\n",
       "\n",
       "[1459 rows x 2 columns]"
      ]
     },
     "execution_count": 97,
     "metadata": {},
     "output_type": "execute_result"
    }
   ],
   "source": [
    "# Since the stacked regression gives the best prediction, we shall use the stacked regression to submit results\n",
    "# Read in sample_submission dataframe\n",
    "submission = pd.read_csv(\"./input/sample_submission.csv\")\n",
    "submission"
   ]
  },
  {
   "cell_type": "code",
   "execution_count": 98,
   "metadata": {},
   "outputs": [
    {
     "data": {
      "text/html": [
       "<div>\n",
       "<style scoped>\n",
       "    .dataframe tbody tr th:only-of-type {\n",
       "        vertical-align: middle;\n",
       "    }\n",
       "\n",
       "    .dataframe tbody tr th {\n",
       "        vertical-align: top;\n",
       "    }\n",
       "\n",
       "    .dataframe thead th {\n",
       "        text-align: right;\n",
       "    }\n",
       "</style>\n",
       "<table border=\"1\" class=\"dataframe\">\n",
       "  <thead>\n",
       "    <tr style=\"text-align: right;\">\n",
       "      <th></th>\n",
       "      <th>Id</th>\n",
       "      <th>SalePrice</th>\n",
       "    </tr>\n",
       "  </thead>\n",
       "  <tbody>\n",
       "    <tr>\n",
       "      <th>0</th>\n",
       "      <td>1461</td>\n",
       "      <td>118578.564755</td>\n",
       "    </tr>\n",
       "    <tr>\n",
       "      <th>1</th>\n",
       "      <td>1462</td>\n",
       "      <td>157677.568176</td>\n",
       "    </tr>\n",
       "    <tr>\n",
       "      <th>2</th>\n",
       "      <td>1463</td>\n",
       "      <td>182039.533236</td>\n",
       "    </tr>\n",
       "    <tr>\n",
       "      <th>3</th>\n",
       "      <td>1464</td>\n",
       "      <td>192828.891585</td>\n",
       "    </tr>\n",
       "    <tr>\n",
       "      <th>4</th>\n",
       "      <td>1465</td>\n",
       "      <td>195161.951772</td>\n",
       "    </tr>\n",
       "    <tr>\n",
       "      <th>...</th>\n",
       "      <td>...</td>\n",
       "      <td>...</td>\n",
       "    </tr>\n",
       "    <tr>\n",
       "      <th>1454</th>\n",
       "      <td>2915</td>\n",
       "      <td>82728.508668</td>\n",
       "    </tr>\n",
       "    <tr>\n",
       "      <th>1455</th>\n",
       "      <td>2916</td>\n",
       "      <td>81781.333331</td>\n",
       "    </tr>\n",
       "    <tr>\n",
       "      <th>1456</th>\n",
       "      <td>2917</td>\n",
       "      <td>163153.653299</td>\n",
       "    </tr>\n",
       "    <tr>\n",
       "      <th>1457</th>\n",
       "      <td>2918</td>\n",
       "      <td>122161.807707</td>\n",
       "    </tr>\n",
       "    <tr>\n",
       "      <th>1458</th>\n",
       "      <td>2919</td>\n",
       "      <td>229667.741619</td>\n",
       "    </tr>\n",
       "  </tbody>\n",
       "</table>\n",
       "<p>1459 rows × 2 columns</p>\n",
       "</div>"
      ],
      "text/plain": [
       "        Id      SalePrice\n",
       "0     1461  118578.564755\n",
       "1     1462  157677.568176\n",
       "2     1463  182039.533236\n",
       "3     1464  192828.891585\n",
       "4     1465  195161.951772\n",
       "...    ...            ...\n",
       "1454  2915   82728.508668\n",
       "1455  2916   81781.333331\n",
       "1456  2917  163153.653299\n",
       "1457  2918  122161.807707\n",
       "1458  2919  229667.741619\n",
       "\n",
       "[1459 rows x 2 columns]"
      ]
     },
     "execution_count": 98,
     "metadata": {},
     "output_type": "execute_result"
    }
   ],
   "source": [
    "# Append predictions from blended models\n",
    "submission.iloc[:,1] = np.exp(stacked_predictions(df_test2))\n",
    "submission"
   ]
  },
  {
   "cell_type": "code",
   "execution_count": 99,
   "metadata": {},
   "outputs": [],
   "source": [
    "submission.to_csv(\"final_submission.csv\", index=False)"
   ]
  }
 ],
 "metadata": {
  "kernelspec": {
   "display_name": "Python 3",
   "language": "python",
   "name": "python3"
  },
  "language_info": {
   "codemirror_mode": {
    "name": "ipython",
    "version": 3
   },
   "file_extension": ".py",
   "mimetype": "text/x-python",
   "name": "python",
   "nbconvert_exporter": "python",
   "pygments_lexer": "ipython3",
   "version": "3.8.3"
  }
 },
 "nbformat": 4,
 "nbformat_minor": 4
}
